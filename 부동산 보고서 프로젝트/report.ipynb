{
 "cells": [
  {
   "cell_type": "code",
   "execution_count": 1,
   "id": "95fc008f",
   "metadata": {},
   "outputs": [],
   "source": [
    "# 경로설정\n",
    "import sys\n",
    "path = \"C:\\github/aide-analysis/\"\n",
    "path2 = 'C:\\github/aide-analysis/notebook/temp_ljs/Develop/지주리포트Lite/실거래 이상값 제거 연구 및 추론/모듈 및 압축파일 보관 폴더'\n",
    "sys.path.append(path)\n",
    "sys.path.append(path2)\n",
    "\n",
    "import os\n",
    "import sys\n",
    "from pathlib import Path\n",
    "sys.path.append(str(Path(os.getcwd())))\n",
    "# 한글폰트\n",
    "import os\n",
    "import matplotlib.pyplot as plt\n",
    "if os.name =='posix':\n",
    "    plt.rc('font',family = 'ApplGothic')\n",
    "else:\n",
    "    plt.rc('font',family = 'Malgun Gothic')\n",
    "    \n",
    "# 경고출력문 제거\n",
    "import warnings\n",
    "warnings.filterwarnings(\"ignore\")\n",
    "\n",
    "# 모듈 import\n",
    "import pandas as pd\n",
    "import src\n",
    "from src.openapi import KakaoLocalAPI as kakao\n",
    "from openpyxl import load_workbook\n",
    "from src.utils import insert_dataframe_to_excel_sheet\n",
    "from src.sql import DatabaseHandler\n",
    "from src.temp import *\n",
    "from datetime import datetime\n",
    "import datetime\n",
    "from dateutil.relativedelta import relativedelta\n",
    "from src.bigquery import BigqueryHandler\n",
    "import seaborn as sns\n",
    "import numpy as np\n",
    "import statistics\n",
    "from tqdm import tqdm\n",
    "import config\n",
    "from core.config import Config\n",
    "import json\n",
    "from datetime import datetime\n",
    "import geopandas as gpd\n",
    "from tqdm import tqdm\n",
    "import folium\n",
    "from src.bigquery import bigquery_client, bigquery\n",
    "import geopandas as gpd\n",
    "from shapely import wkt\n",
    "from openpyxl import load_workbook\n",
    "from src.utils import insert_dataframe_to_excel_sheet\n",
    "from openpyxl.utils.dataframe import dataframe_to_rows\n",
    "from difflib import SequenceMatcher\n",
    "import openpyxl\n",
    "import math\n",
    "from dataclasses import dataclass\n",
    "config = Config()\n",
    "BH = BigqueryHandler()\n",
    "\n",
    "\n",
    "# DataFrame 디스플레이 설정\n",
    "pd.set_option('display.max_columns', 250)\n",
    "pd.set_option('display.max_rows', 250)\n",
    "pd.set_option('display.width', 100)"
   ]
  },
  {
   "cell_type": "markdown",
   "id": "2654cecd",
   "metadata": {},
   "source": [
    "## 가격 \n",
    "\n",
    "- 특정 단지의 가격\n",
    "    - 모든 타입 매매 평당가 평균으로 추세\n",
    "    - 면적 구간별 매매 평당가 추세 (전세도 같이 표현) --> 전세를 같이표현하는 이유는 전세가의 움직임과 함께보면서 단지의 특성파악을 위함\n",
    "    - 59/84에 해당하는 면적에 대한 매매 평당가 (전세도 같이 표현)\n",
    "- 반경 1km, 2km, 시군구, 시도내 단지들의 가격\n",
    "    - 면적구간별/ 59 / 84 에 따른 평균 가격흐름\n",
    "    - 구간내 세대수가 가장 많은 단지들 의 움직임 별도 표현\n",
    "    - 특정 단지와 유사한 단지들의 흐름\n",
    "    - 신,구축,일반에 따른 가격움직임 흐름\n",
    "\n",
    "\n",
    "## 거래량\n",
    "- 외형가 6억이상 9억이상 15억이상 3억이상 3억이하에 따른 거래량\n",
    "- 전세 거래량, 매매 거래량, 월세 거래량\n",
    "- 면적 그룹별 거래량\n",
    "- 59/84 거래량"
   ]
  },
  {
   "cell_type": "code",
   "execution_count": 2,
   "id": "5f2521f9",
   "metadata": {},
   "outputs": [],
   "source": [
    "docs = kakao.search_address('서울시 강서구 마곡동 743-4')"
   ]
  },
  {
   "cell_type": "code",
   "execution_count": 3,
   "id": "6cbeac57",
   "metadata": {},
   "outputs": [],
   "source": [
    "sidoCode = docs['documents'][0]['address']['b_code'][:2]\n",
    "sigunguCode = docs['documents'][0]['address']['b_code'][:5]\n",
    "bdongCode = docs['documents'][0]['address']['b_code'][:10]"
   ]
  },
  {
   "cell_type": "code",
   "execution_count": 4,
   "id": "e52987ed",
   "metadata": {},
   "outputs": [],
   "source": [
    "sql = f\"\"\"\n",
    "SELECT complexNo, \n",
    "       complexName, \n",
    "       sigunguCode, \n",
    "       bdongCode, \n",
    "       address, \n",
    "       totalHouseholdCount,\n",
    "       useApproveYear,\n",
    "       CASE\n",
    "       WHEN useApproveYear >='2018'THEN \"new\"\n",
    "       WHEN useApproveYear < \"2018\" AND useApproveYear >= \"2003\" THEN \"normal\"\n",
    "       WHEN useApproveYear < \"2013\" THEN \"old\" END AS status,\n",
    "       supplyArea,\n",
    "       supplyPyeong,\n",
    "       jeonyongArea,\n",
    "       jeonyongPyeong,\n",
    "       areaSixGroupNo,\n",
    "       tradeType,\n",
    "       dealPrice,\n",
    "       pricePerSupplyPyeong,\n",
    "       averagePyeong,\n",
    "       averagePrice,\n",
    "       isReal,\n",
    "       yearMonth,\n",
    "       predict\n",
    "FROM `aidepartners.aide.aide_apartment_price_origin`\n",
    "WHERE sidoCode = \"{sidoCode}\" and yearMonth >='2013-01-01' AND totalHouseholdCount>=100\n",
    "\"\"\"\n",
    "# 시도\n",
    "df = BH.read_table(sql)\n",
    "# dbdate to datetime\n",
    "df['yearMonth'] = pd.to_datetime(df['yearMonth'])\n"
   ]
  },
  {
   "cell_type": "code",
   "execution_count": 5,
   "id": "5ade34ed",
   "metadata": {},
   "outputs": [],
   "source": [
    "# 시군구\n",
    "df_sigungu = df[df['sigunguCode']==sigunguCode].reset_index(drop =True)\n",
    "# 법정동\n",
    "df_bdong = df[df['bdongCode']==bdongCode].reset_index(drop =True)"
   ]
  },
  {
   "cell_type": "markdown",
   "id": "7b19a914",
   "metadata": {},
   "source": [
    "# Ad-Hoc"
   ]
  },
  {
   "cell_type": "markdown",
   "id": "3177350d",
   "metadata": {},
   "source": [
    "## 10년간 월별 거래량"
   ]
  },
  {
   "cell_type": "code",
   "execution_count": 6,
   "id": "7e892602",
   "metadata": {},
   "outputs": [
    {
     "data": {
      "text/plain": [
       "(array([  0,   1,   2,   3,   4,   5,   6,   7,   8,   9,  10,  11,  12,\n",
       "         13,  14,  15,  16,  17,  18,  19,  20,  21,  22,  23,  24,  25,\n",
       "         26,  27,  28,  29,  30,  31,  32,  33,  34,  35,  36,  37,  38,\n",
       "         39,  40,  41,  42,  43,  44,  45,  46,  47,  48,  49,  50,  51,\n",
       "         52,  53,  54,  55,  56,  57,  58,  59,  60,  61,  62,  63,  64,\n",
       "         65,  66,  67,  68,  69,  70,  71,  72,  73,  74,  75,  76,  77,\n",
       "         78,  79,  80,  81,  82,  83,  84,  85,  86,  87,  88,  89,  90,\n",
       "         91,  92,  93,  94,  95,  96,  97,  98,  99, 100, 101, 102, 103,\n",
       "        104, 105, 106, 107, 108, 109, 110, 111, 112, 113, 114, 115, 116,\n",
       "        117, 118, 119, 120, 121, 122]),\n",
       " [Text(0, 0, '2013-1'),\n",
       "  Text(1, 0, '2013-2'),\n",
       "  Text(2, 0, '2013-3'),\n",
       "  Text(3, 0, '2013-4'),\n",
       "  Text(4, 0, '2013-5'),\n",
       "  Text(5, 0, '2013-6'),\n",
       "  Text(6, 0, '2013-7'),\n",
       "  Text(7, 0, '2013-8'),\n",
       "  Text(8, 0, '2013-9'),\n",
       "  Text(9, 0, '2013-10'),\n",
       "  Text(10, 0, '2013-11'),\n",
       "  Text(11, 0, '2013-12'),\n",
       "  Text(12, 0, '2014-1'),\n",
       "  Text(13, 0, '2014-2'),\n",
       "  Text(14, 0, '2014-3'),\n",
       "  Text(15, 0, '2014-4'),\n",
       "  Text(16, 0, '2014-5'),\n",
       "  Text(17, 0, '2014-6'),\n",
       "  Text(18, 0, '2014-7'),\n",
       "  Text(19, 0, '2014-8'),\n",
       "  Text(20, 0, '2014-9'),\n",
       "  Text(21, 0, '2014-10'),\n",
       "  Text(22, 0, '2014-11'),\n",
       "  Text(23, 0, '2014-12'),\n",
       "  Text(24, 0, '2015-1'),\n",
       "  Text(25, 0, '2015-2'),\n",
       "  Text(26, 0, '2015-3'),\n",
       "  Text(27, 0, '2015-4'),\n",
       "  Text(28, 0, '2015-5'),\n",
       "  Text(29, 0, '2015-6'),\n",
       "  Text(30, 0, '2015-7'),\n",
       "  Text(31, 0, '2015-8'),\n",
       "  Text(32, 0, '2015-9'),\n",
       "  Text(33, 0, '2015-10'),\n",
       "  Text(34, 0, '2015-11'),\n",
       "  Text(35, 0, '2015-12'),\n",
       "  Text(36, 0, '2016-1'),\n",
       "  Text(37, 0, '2016-2'),\n",
       "  Text(38, 0, '2016-3'),\n",
       "  Text(39, 0, '2016-4'),\n",
       "  Text(40, 0, '2016-5'),\n",
       "  Text(41, 0, '2016-6'),\n",
       "  Text(42, 0, '2016-7'),\n",
       "  Text(43, 0, '2016-8'),\n",
       "  Text(44, 0, '2016-9'),\n",
       "  Text(45, 0, '2016-10'),\n",
       "  Text(46, 0, '2016-11'),\n",
       "  Text(47, 0, '2016-12'),\n",
       "  Text(48, 0, '2017-1'),\n",
       "  Text(49, 0, '2017-2'),\n",
       "  Text(50, 0, '2017-3'),\n",
       "  Text(51, 0, '2017-4'),\n",
       "  Text(52, 0, '2017-5'),\n",
       "  Text(53, 0, '2017-6'),\n",
       "  Text(54, 0, '2017-7'),\n",
       "  Text(55, 0, '2017-8'),\n",
       "  Text(56, 0, '2017-9'),\n",
       "  Text(57, 0, '2017-10'),\n",
       "  Text(58, 0, '2017-11'),\n",
       "  Text(59, 0, '2017-12'),\n",
       "  Text(60, 0, '2018-1'),\n",
       "  Text(61, 0, '2018-2'),\n",
       "  Text(62, 0, '2018-3'),\n",
       "  Text(63, 0, '2018-4'),\n",
       "  Text(64, 0, '2018-5'),\n",
       "  Text(65, 0, '2018-6'),\n",
       "  Text(66, 0, '2018-7'),\n",
       "  Text(67, 0, '2018-8'),\n",
       "  Text(68, 0, '2018-9'),\n",
       "  Text(69, 0, '2018-10'),\n",
       "  Text(70, 0, '2018-11'),\n",
       "  Text(71, 0, '2018-12'),\n",
       "  Text(72, 0, '2019-1'),\n",
       "  Text(73, 0, '2019-2'),\n",
       "  Text(74, 0, '2019-3'),\n",
       "  Text(75, 0, '2019-4'),\n",
       "  Text(76, 0, '2019-5'),\n",
       "  Text(77, 0, '2019-6'),\n",
       "  Text(78, 0, '2019-7'),\n",
       "  Text(79, 0, '2019-8'),\n",
       "  Text(80, 0, '2019-9'),\n",
       "  Text(81, 0, '2019-10'),\n",
       "  Text(82, 0, '2019-11'),\n",
       "  Text(83, 0, '2019-12'),\n",
       "  Text(84, 0, '2020-1'),\n",
       "  Text(85, 0, '2020-2'),\n",
       "  Text(86, 0, '2020-3'),\n",
       "  Text(87, 0, '2020-4'),\n",
       "  Text(88, 0, '2020-5'),\n",
       "  Text(89, 0, '2020-6'),\n",
       "  Text(90, 0, '2020-7'),\n",
       "  Text(91, 0, '2020-8'),\n",
       "  Text(92, 0, '2020-9'),\n",
       "  Text(93, 0, '2020-10'),\n",
       "  Text(94, 0, '2020-11'),\n",
       "  Text(95, 0, '2020-12'),\n",
       "  Text(96, 0, '2021-1'),\n",
       "  Text(97, 0, '2021-2'),\n",
       "  Text(98, 0, '2021-3'),\n",
       "  Text(99, 0, '2021-4'),\n",
       "  Text(100, 0, '2021-5'),\n",
       "  Text(101, 0, '2021-6'),\n",
       "  Text(102, 0, '2021-7'),\n",
       "  Text(103, 0, '2021-8'),\n",
       "  Text(104, 0, '2021-9'),\n",
       "  Text(105, 0, '2021-10'),\n",
       "  Text(106, 0, '2021-11'),\n",
       "  Text(107, 0, '2021-12'),\n",
       "  Text(108, 0, '2022-1'),\n",
       "  Text(109, 0, '2022-2'),\n",
       "  Text(110, 0, '2022-3'),\n",
       "  Text(111, 0, '2022-4'),\n",
       "  Text(112, 0, '2022-5'),\n",
       "  Text(113, 0, '2022-6'),\n",
       "  Text(114, 0, '2022-7'),\n",
       "  Text(115, 0, '2022-8'),\n",
       "  Text(116, 0, '2022-9'),\n",
       "  Text(117, 0, '2022-10'),\n",
       "  Text(118, 0, '2022-11'),\n",
       "  Text(119, 0, '2022-12'),\n",
       "  Text(120, 0, '2023-1'),\n",
       "  Text(121, 0, '2023-2'),\n",
       "  Text(122, 0, '2023-3')])"
      ]
     },
     "execution_count": 6,
     "metadata": {},
     "output_type": "execute_result"
    },
    {
     "data": {
      "image/png": "[encoded data removed]",
      "text/plain": [
       "<Figure size 1440x360 with 1 Axes>"
      ]
     },
     "metadata": {
      "needs_background": "light"
     },
     "output_type": "display_data"
    }
   ],
   "source": [
    "df_tradingYear = df_sigungu[df_sigungu['isReal']==True].groupby('yearMonth')['tradeType'].count().reset_index()\n",
    "# 연도컬럼 생성\n",
    "df_tradingYear['year'] = df_tradingYear['yearMonth'].dt.year\n",
    "# 년-월\n",
    "df_tradingYear['yearMonth'] = df_tradingYear['yearMonth'].dt.year.astype(str) +'-'+df_tradingYear['yearMonth'].dt.month.astype(str)\n",
    "# 시각화\n",
    "plt.figure(figsize = (20, 5))\n",
    "sns.barplot(df_tradingYear['yearMonth'], df_tradingYear['tradeType'])\n",
    "plt.xticks(rotation=45)"
   ]
  },
  {
   "cell_type": "code",
   "execution_count": 7,
   "id": "1d2c9c68",
   "metadata": {},
   "outputs": [
    {
     "data": {
      "text/plain": [
       "(array([  0,   1,   2,   3,   4,   5,   6,   7,   8,   9,  10,  11,  12,\n",
       "         13,  14,  15,  16,  17,  18,  19,  20,  21,  22,  23,  24,  25,\n",
       "         26,  27,  28,  29,  30,  31,  32,  33,  34,  35,  36,  37,  38,\n",
       "         39,  40,  41,  42,  43,  44,  45,  46,  47,  48,  49,  50,  51,\n",
       "         52,  53,  54,  55,  56,  57,  58,  59,  60,  61,  62,  63,  64,\n",
       "         65,  66,  67,  68,  69,  70,  71,  72,  73,  74,  75,  76,  77,\n",
       "         78,  79,  80,  81,  82,  83,  84,  85,  86,  87,  88,  89,  90,\n",
       "         91,  92,  93,  94,  95,  96,  97,  98,  99, 100, 101, 102, 103,\n",
       "        104, 105, 106, 107, 108, 109, 110, 111, 112, 113, 114, 115, 116,\n",
       "        117, 118, 119]),\n",
       " [Text(0, 0, '2013-1'),\n",
       "  Text(1, 0, '2013-2'),\n",
       "  Text(2, 0, '2013-3'),\n",
       "  Text(3, 0, '2013-4'),\n",
       "  Text(4, 0, '2013-5'),\n",
       "  Text(5, 0, '2013-6'),\n",
       "  Text(6, 0, '2013-7'),\n",
       "  Text(7, 0, '2013-8'),\n",
       "  Text(8, 0, '2013-9'),\n",
       "  Text(9, 0, '2013-10'),\n",
       "  Text(10, 0, '2013-11'),\n",
       "  Text(11, 0, '2013-12'),\n",
       "  Text(12, 0, '2014-1'),\n",
       "  Text(13, 0, '2014-2'),\n",
       "  Text(14, 0, '2014-3'),\n",
       "  Text(15, 0, '2014-4'),\n",
       "  Text(16, 0, '2014-5'),\n",
       "  Text(17, 0, '2014-6'),\n",
       "  Text(18, 0, '2014-7'),\n",
       "  Text(19, 0, '2014-8'),\n",
       "  Text(20, 0, '2014-9'),\n",
       "  Text(21, 0, '2014-10'),\n",
       "  Text(22, 0, '2014-11'),\n",
       "  Text(23, 0, '2014-12'),\n",
       "  Text(24, 0, '2015-1'),\n",
       "  Text(25, 0, '2015-2'),\n",
       "  Text(26, 0, '2015-3'),\n",
       "  Text(27, 0, '2015-4'),\n",
       "  Text(28, 0, '2015-5'),\n",
       "  Text(29, 0, '2015-6'),\n",
       "  Text(30, 0, '2015-7'),\n",
       "  Text(31, 0, '2015-8'),\n",
       "  Text(32, 0, '2015-9'),\n",
       "  Text(33, 0, '2015-10'),\n",
       "  Text(34, 0, '2015-11'),\n",
       "  Text(35, 0, '2015-12'),\n",
       "  Text(36, 0, '2016-1'),\n",
       "  Text(37, 0, '2016-2'),\n",
       "  Text(38, 0, '2016-3'),\n",
       "  Text(39, 0, '2016-4'),\n",
       "  Text(40, 0, '2016-5'),\n",
       "  Text(41, 0, '2016-6'),\n",
       "  Text(42, 0, '2016-7'),\n",
       "  Text(43, 0, '2016-8'),\n",
       "  Text(44, 0, '2016-9'),\n",
       "  Text(45, 0, '2016-10'),\n",
       "  Text(46, 0, '2016-11'),\n",
       "  Text(47, 0, '2016-12'),\n",
       "  Text(48, 0, '2017-1'),\n",
       "  Text(49, 0, '2017-2'),\n",
       "  Text(50, 0, '2017-3'),\n",
       "  Text(51, 0, '2017-4'),\n",
       "  Text(52, 0, '2017-5'),\n",
       "  Text(53, 0, '2017-6'),\n",
       "  Text(54, 0, '2017-7'),\n",
       "  Text(55, 0, '2017-8'),\n",
       "  Text(56, 0, '2017-9'),\n",
       "  Text(57, 0, '2017-10'),\n",
       "  Text(58, 0, '2017-11'),\n",
       "  Text(59, 0, '2017-12'),\n",
       "  Text(60, 0, '2018-1'),\n",
       "  Text(61, 0, '2018-2'),\n",
       "  Text(62, 0, '2018-3'),\n",
       "  Text(63, 0, '2018-4'),\n",
       "  Text(64, 0, '2018-5'),\n",
       "  Text(65, 0, '2018-6'),\n",
       "  Text(66, 0, '2018-7'),\n",
       "  Text(67, 0, '2018-8'),\n",
       "  Text(68, 0, '2018-9'),\n",
       "  Text(69, 0, '2018-10'),\n",
       "  Text(70, 0, '2018-12'),\n",
       "  Text(71, 0, '2019-1'),\n",
       "  Text(72, 0, '2019-2'),\n",
       "  Text(73, 0, '2019-3'),\n",
       "  Text(74, 0, '2019-4'),\n",
       "  Text(75, 0, '2019-5'),\n",
       "  Text(76, 0, '2019-6'),\n",
       "  Text(77, 0, '2019-7'),\n",
       "  Text(78, 0, '2019-8'),\n",
       "  Text(79, 0, '2019-9'),\n",
       "  Text(80, 0, '2019-10'),\n",
       "  Text(81, 0, '2019-11'),\n",
       "  Text(82, 0, '2019-12'),\n",
       "  Text(83, 0, '2020-1'),\n",
       "  Text(84, 0, '2020-2'),\n",
       "  Text(85, 0, '2020-3'),\n",
       "  Text(86, 0, '2020-4'),\n",
       "  Text(87, 0, '2020-5'),\n",
       "  Text(88, 0, '2020-6'),\n",
       "  Text(89, 0, '2020-7'),\n",
       "  Text(90, 0, '2020-8'),\n",
       "  Text(91, 0, '2020-9'),\n",
       "  Text(92, 0, '2020-10'),\n",
       "  Text(93, 0, '2020-11'),\n",
       "  Text(94, 0, '2020-12'),\n",
       "  Text(95, 0, '2021-1'),\n",
       "  Text(96, 0, '2021-2'),\n",
       "  Text(97, 0, '2021-3'),\n",
       "  Text(98, 0, '2021-4'),\n",
       "  Text(99, 0, '2021-5'),\n",
       "  Text(100, 0, '2021-6'),\n",
       "  Text(101, 0, '2021-7'),\n",
       "  Text(102, 0, '2021-8'),\n",
       "  Text(103, 0, '2021-9'),\n",
       "  Text(104, 0, '2021-10'),\n",
       "  Text(105, 0, '2021-11'),\n",
       "  Text(106, 0, '2021-12'),\n",
       "  Text(107, 0, '2022-1'),\n",
       "  Text(108, 0, '2022-2'),\n",
       "  Text(109, 0, '2022-3'),\n",
       "  Text(110, 0, '2022-4'),\n",
       "  Text(111, 0, '2022-5'),\n",
       "  Text(112, 0, '2022-6'),\n",
       "  Text(113, 0, '2022-8'),\n",
       "  Text(114, 0, '2022-9'),\n",
       "  Text(115, 0, '2022-10'),\n",
       "  Text(116, 0, '2022-11'),\n",
       "  Text(117, 0, '2022-12'),\n",
       "  Text(118, 0, '2023-1'),\n",
       "  Text(119, 0, '2023-2')])"
      ]
     },
     "execution_count": 7,
     "metadata": {},
     "output_type": "execute_result"
    },
    {
     "data": {
      "image/png": "[encoded data removed]",
      "text/plain": [
       "<Figure size 1440x360 with 1 Axes>"
      ]
     },
     "metadata": {
      "needs_background": "light"
     },
     "output_type": "display_data"
    }
   ],
   "source": [
    "df_tradingYearBdong = df_bdong[df_bdong['isReal']==True].groupby('yearMonth')['tradeType'].count().reset_index()\n",
    "# 연도컬럼 생성\n",
    "df_tradingYearBdong['year'] = df_tradingYearBdong['yearMonth'].dt.year\n",
    "# 년-월\n",
    "df_tradingYearBdong['yearMonth'] = df_tradingYearBdong['yearMonth'].dt.year.astype(str) +'-'+df_tradingYearBdong['yearMonth'].dt.month.astype(str)\n",
    "# 시각화\n",
    "plt.figure(figsize = (20, 5))\n",
    "sns.barplot(df_tradingYearBdong['yearMonth'], df_tradingYearBdong['tradeType'])\n",
    "plt.xticks(rotation=45)"
   ]
  },
  {
   "cell_type": "markdown",
   "id": "18c0d505",
   "metadata": {},
   "source": [
    "## 연간 세대수"
   ]
  },
  {
   "cell_type": "code",
   "execution_count": 8,
   "id": "29b7e803",
   "metadata": {},
   "outputs": [
    {
     "data": {
      "text/plain": [
       "<AxesSubplot:xlabel='useApproveYear', ylabel='totalHouseholdCount'>"
      ]
     },
     "execution_count": 8,
     "metadata": {},
     "output_type": "execute_result"
    },
    {
     "data": {
      "image/png": "[encoded data removed]",
      "text/plain": [
       "<Figure size 864x288 with 1 Axes>"
      ]
     },
     "metadata": {
      "needs_background": "light"
     },
     "output_type": "display_data"
    }
   ],
   "source": [
    "# 실제거래가 된 데이터 추출\n",
    "df_sigunguReal = df_sigungu[df_sigungu['isReal']==True].drop_duplicates(subset = 'complexNo').reset_index(drop =True)\n",
    "# 연도별 총 세대수 합계데이터 \n",
    "df_sigunguSedae = df_sigunguReal.groupby('useApproveYear')['totalHouseholdCount'].sum().reset_index()\n",
    "# 연도별 누적합 데이터프레임으로 변환\n",
    "df_sigunguSedaeCount = pd.concat([df_sigunguSedae['useApproveYear'], df_sigunguSedae['totalHouseholdCount'].cumsum()],axis =1)\n",
    "# 2010년도 이전 데이터 제거\n",
    "df_sigunguSedaeCount = df_sigunguSedaeCount[df_sigunguSedaeCount['useApproveYear']>='2010'].reset_index(drop =True)\n",
    "# 타입변경\n",
    "df_sigunguSedaeCount['useApproveYear'] = df_sigunguSedaeCount['useApproveYear'].astype(int)\n",
    "\n",
    "plt.figure(figsize = (12, 4))\n",
    "sns.lineplot(df_sigunguSedaeCount['useApproveYear'], df_sigunguSedaeCount['totalHouseholdCount'])"
   ]
  },
  {
   "cell_type": "code",
   "execution_count": 9,
   "id": "93caded0",
   "metadata": {},
   "outputs": [
    {
     "data": {
      "text/plain": [
       "<AxesSubplot:xlabel='useApproveYear', ylabel='totalHouseholdCount'>"
      ]
     },
     "execution_count": 9,
     "metadata": {},
     "output_type": "execute_result"
    },
    {
     "data": {
      "image/png": "[encoded data removed]",
      "text/plain": [
       "<Figure size 864x288 with 1 Axes>"
      ]
     },
     "metadata": {
      "needs_background": "light"
     },
     "output_type": "display_data"
    }
   ],
   "source": [
    "# 실제거래가 된 데이터 추출\n",
    "df_bdongReal = df_bdong[df_bdong['isReal']==True].drop_duplicates(subset = 'complexNo').reset_index(drop =True)\n",
    "# 연도별 총 세대수 합계데이터 \n",
    "df_bdongSedae = df_bdongReal.groupby('useApproveYear')['totalHouseholdCount'].sum().reset_index()\n",
    "# 연도별 누적합 데이터프레임으로 변환\n",
    "df_bdongSedaeCount = pd.concat([df_bdongSedae['useApproveYear'], df_bdongSedae['totalHouseholdCount'].cumsum()],axis =1)\n",
    "# 2010년도 이전 데이터 제거\n",
    "df_bdongSedaeCount = df_bdongSedaeCount[df_bdongSedaeCount['useApproveYear']>='2010'].reset_index(drop =True)\n",
    "# 타입변경\n",
    "df_bdongSedaeCount['useApproveYear'] = df_bdongSedaeCount['useApproveYear'].astype(int)\n",
    "\n",
    "plt.figure(figsize = (12, 4))\n",
    "sns.lineplot(df_bdongSedaeCount['useApproveYear'], df_bdongSedaeCount['totalHouseholdCount'])"
   ]
  },
  {
   "cell_type": "markdown",
   "id": "c3bc4d73",
   "metadata": {},
   "source": [
    "## 연간 회전율"
   ]
  },
  {
   "cell_type": "code",
   "execution_count": 10,
   "id": "3e94acbc",
   "metadata": {},
   "outputs": [
    {
     "data": {
      "text/plain": [
       "<AxesSubplot:xlabel='year', ylabel='rotation'>"
      ]
     },
     "execution_count": 10,
     "metadata": {},
     "output_type": "execute_result"
    },
    {
     "data": {
      "image/png": "[encoded data removed]",
      "text/plain": [
       "<Figure size 432x288 with 1 Axes>"
      ]
     },
     "metadata": {
      "needs_background": "light"
     },
     "output_type": "display_data"
    }
   ],
   "source": [
    "# 연간 거래량 테이블 만들기\n",
    "df_tradingYear2 = df_tradingYear.groupby('year')['tradeType'].sum().reset_index()\n",
    "# 연간 총세대수 누적테이블과 merge\n",
    "df_rotationRatio = pd.merge(df_tradingYear2, df_sigunguSedaeCount, left_on = 'year', right_on = 'useApproveYear', how = 'left')\n",
    "# 입주물량이없는 연도는 이전연도로 채우기\n",
    "df_rotationRatio['totalHouseholdCount'] = df_rotationRatio['totalHouseholdCount'].fillna(method = 'ffill')\n",
    "# 연간회전율 컬럼 만들기\n",
    "df_rotationRatio['rotation'] = df_rotationRatio['tradeType']/ df_rotationRatio['totalHouseholdCount']\n",
    "# 시각화\n",
    "sns.barplot(df_rotationRatio['year'], df_rotationRatio['rotation'])"
   ]
  },
  {
   "cell_type": "code",
   "execution_count": 11,
   "id": "04df6323",
   "metadata": {},
   "outputs": [
    {
     "data": {
      "text/plain": [
       "<AxesSubplot:xlabel='year', ylabel='rotation'>"
      ]
     },
     "execution_count": 11,
     "metadata": {},
     "output_type": "execute_result"
    },
    {
     "data": {
      "image/png": "[encoded data removed]",
      "text/plain": [
       "<Figure size 432x288 with 1 Axes>"
      ]
     },
     "metadata": {
      "needs_background": "light"
     },
     "output_type": "display_data"
    }
   ],
   "source": [
    "# 연간 거래량 테이블 만들기\n",
    "df_tradingYearBdong2 = df_tradingYearBdong.groupby('year')['tradeType'].sum().reset_index()\n",
    "# 연간 총세대수 누적테이블과 merge\n",
    "df_rotationRatioBdong = pd.merge(df_tradingYearBdong2, df_bdongSedaeCount, left_on = 'year', right_on = 'useApproveYear', how = 'left')\n",
    "# 입주물량이없는 연도는 이전연도로 채우기\n",
    "df_rotationRatioBdong['totalHouseholdCount'] = df_rotationRatioBdong['totalHouseholdCount'].fillna(method = 'ffill')\n",
    "# 연간회전율 컬럼 만들기\n",
    "df_rotationRatioBdong['rotation'] = df_rotationRatioBdong['tradeType']/ df_rotationRatioBdong['totalHouseholdCount']\n",
    "# 시각화\n",
    "sns.barplot(df_rotationRatioBdong['year'], df_rotationRatioBdong['rotation'])"
   ]
  },
  {
   "cell_type": "markdown",
   "id": "9c0e179f",
   "metadata": {},
   "source": [
    "## 면적그룹별 거래량"
   ]
  },
  {
   "cell_type": "code",
   "execution_count": 12,
   "id": "81fdb5f1",
   "metadata": {},
   "outputs": [
    {
     "data": {
      "text/html": [
       "<div>\n",
       "<style scoped>\n",
       "    .dataframe tbody tr th:only-of-type {\n",
       "        vertical-align: middle;\n",
       "    }\n",
       "\n",
       "    .dataframe tbody tr th {\n",
       "        vertical-align: top;\n",
       "    }\n",
       "\n",
       "    .dataframe thead th {\n",
       "        text-align: right;\n",
       "    }\n",
       "</style>\n",
       "<table border=\"1\" class=\"dataframe\">\n",
       "  <thead>\n",
       "    <tr style=\"text-align: right;\">\n",
       "      <th></th>\n",
       "      <th>areaSixGroupNo</th>\n",
       "      <th>tradeType</th>\n",
       "    </tr>\n",
       "  </thead>\n",
       "  <tbody>\n",
       "    <tr>\n",
       "      <th>0</th>\n",
       "      <td>A0</td>\n",
       "      <td>1666</td>\n",
       "    </tr>\n",
       "    <tr>\n",
       "      <th>1</th>\n",
       "      <td>A1</td>\n",
       "      <td>5468</td>\n",
       "    </tr>\n",
       "    <tr>\n",
       "      <th>2</th>\n",
       "      <td>A2</td>\n",
       "      <td>9373</td>\n",
       "    </tr>\n",
       "    <tr>\n",
       "      <th>3</th>\n",
       "      <td>A3</td>\n",
       "      <td>14174</td>\n",
       "    </tr>\n",
       "    <tr>\n",
       "      <th>4</th>\n",
       "      <td>A4</td>\n",
       "      <td>2707</td>\n",
       "    </tr>\n",
       "    <tr>\n",
       "      <th>5</th>\n",
       "      <td>A5</td>\n",
       "      <td>2256</td>\n",
       "    </tr>\n",
       "  </tbody>\n",
       "</table>\n",
       "</div>"
      ],
      "text/plain": [
       "  areaSixGroupNo  tradeType\n",
       "0             A0       1666\n",
       "1             A1       5468\n",
       "2             A2       9373\n",
       "3             A3      14174\n",
       "4             A4       2707\n",
       "5             A5       2256"
      ]
     },
     "execution_count": 12,
     "metadata": {},
     "output_type": "execute_result"
    }
   ],
   "source": [
    "df_sigungu[df_sigungu['isReal']==True].groupby('areaSixGroupNo')['tradeType'].count().reset_index()"
   ]
  },
  {
   "cell_type": "code",
   "execution_count": 12,
   "id": "eef74284",
   "metadata": {},
   "outputs": [
    {
     "data": {
      "text/html": [
       "<div>\n",
       "<style scoped>\n",
       "    .dataframe tbody tr th:only-of-type {\n",
       "        vertical-align: middle;\n",
       "    }\n",
       "\n",
       "    .dataframe tbody tr th {\n",
       "        vertical-align: top;\n",
       "    }\n",
       "\n",
       "    .dataframe thead th {\n",
       "        text-align: right;\n",
       "    }\n",
       "</style>\n",
       "<table border=\"1\" class=\"dataframe\">\n",
       "  <thead>\n",
       "    <tr style=\"text-align: right;\">\n",
       "      <th></th>\n",
       "      <th>areaSixGroupNo</th>\n",
       "      <th>tradeType</th>\n",
       "    </tr>\n",
       "  </thead>\n",
       "  <tbody>\n",
       "    <tr>\n",
       "      <th>0</th>\n",
       "      <td>A2</td>\n",
       "      <td>500</td>\n",
       "    </tr>\n",
       "    <tr>\n",
       "      <th>1</th>\n",
       "      <td>A3</td>\n",
       "      <td>1201</td>\n",
       "    </tr>\n",
       "    <tr>\n",
       "      <th>2</th>\n",
       "      <td>A4</td>\n",
       "      <td>386</td>\n",
       "    </tr>\n",
       "  </tbody>\n",
       "</table>\n",
       "</div>"
      ],
      "text/plain": [
       "  areaSixGroupNo  tradeType\n",
       "0             A2        500\n",
       "1             A3       1201\n",
       "2             A4        386"
      ]
     },
     "execution_count": 12,
     "metadata": {},
     "output_type": "execute_result"
    }
   ],
   "source": [
    "df_bdong[df_bdong['isReal']==True].groupby('areaSixGroupNo')['tradeType'].count().reset_index()"
   ]
  },
  {
   "cell_type": "markdown",
   "id": "1e633c2d",
   "metadata": {},
   "source": [
    "## 면적그룹별 세대수"
   ]
  },
  {
   "cell_type": "code",
   "execution_count": 14,
   "id": "6c45cfc3",
   "metadata": {},
   "outputs": [
    {
     "data": {
      "text/html": [
       "<div>\n",
       "<style scoped>\n",
       "    .dataframe tbody tr th:only-of-type {\n",
       "        vertical-align: middle;\n",
       "    }\n",
       "\n",
       "    .dataframe tbody tr th {\n",
       "        vertical-align: top;\n",
       "    }\n",
       "\n",
       "    .dataframe thead th {\n",
       "        text-align: right;\n",
       "    }\n",
       "</style>\n",
       "<table border=\"1\" class=\"dataframe\">\n",
       "  <thead>\n",
       "    <tr style=\"text-align: right;\">\n",
       "      <th></th>\n",
       "      <th>areaSixGroupNo</th>\n",
       "      <th>complexName</th>\n",
       "    </tr>\n",
       "  </thead>\n",
       "  <tbody>\n",
       "    <tr>\n",
       "      <th>0</th>\n",
       "      <td>A0</td>\n",
       "      <td>21</td>\n",
       "    </tr>\n",
       "    <tr>\n",
       "      <th>1</th>\n",
       "      <td>A1</td>\n",
       "      <td>31</td>\n",
       "    </tr>\n",
       "    <tr>\n",
       "      <th>2</th>\n",
       "      <td>A2</td>\n",
       "      <td>120</td>\n",
       "    </tr>\n",
       "    <tr>\n",
       "      <th>3</th>\n",
       "      <td>A3</td>\n",
       "      <td>160</td>\n",
       "    </tr>\n",
       "    <tr>\n",
       "      <th>4</th>\n",
       "      <td>A4</td>\n",
       "      <td>74</td>\n",
       "    </tr>\n",
       "    <tr>\n",
       "      <th>5</th>\n",
       "      <td>A5</td>\n",
       "      <td>24</td>\n",
       "    </tr>\n",
       "  </tbody>\n",
       "</table>\n",
       "</div>"
      ],
      "text/plain": [
       "  areaSixGroupNo  complexName\n",
       "0             A0           21\n",
       "1             A1           31\n",
       "2             A2          120\n",
       "3             A3          160\n",
       "4             A4           74\n",
       "5             A5           24"
      ]
     },
     "execution_count": 14,
     "metadata": {},
     "output_type": "execute_result"
    }
   ],
   "source": [
    "df_sigungu.drop_duplicates(subset = ['complexNo','areaSixGroupNo']).groupby(['areaSixGroupNo'])['complexName'].count().reset_index()"
   ]
  },
  {
   "cell_type": "code",
   "execution_count": 15,
   "id": "6a189c63",
   "metadata": {},
   "outputs": [
    {
     "data": {
      "text/html": [
       "<div>\n",
       "<style scoped>\n",
       "    .dataframe tbody tr th:only-of-type {\n",
       "        vertical-align: middle;\n",
       "    }\n",
       "\n",
       "    .dataframe tbody tr th {\n",
       "        vertical-align: top;\n",
       "    }\n",
       "\n",
       "    .dataframe thead th {\n",
       "        text-align: right;\n",
       "    }\n",
       "</style>\n",
       "<table border=\"1\" class=\"dataframe\">\n",
       "  <thead>\n",
       "    <tr style=\"text-align: right;\">\n",
       "      <th></th>\n",
       "      <th>areaSixGroupNo</th>\n",
       "      <th>complexName</th>\n",
       "    </tr>\n",
       "  </thead>\n",
       "  <tbody>\n",
       "    <tr>\n",
       "      <th>0</th>\n",
       "      <td>A1</td>\n",
       "      <td>1</td>\n",
       "    </tr>\n",
       "    <tr>\n",
       "      <th>1</th>\n",
       "      <td>A2</td>\n",
       "      <td>11</td>\n",
       "    </tr>\n",
       "    <tr>\n",
       "      <th>2</th>\n",
       "      <td>A3</td>\n",
       "      <td>21</td>\n",
       "    </tr>\n",
       "    <tr>\n",
       "      <th>3</th>\n",
       "      <td>A4</td>\n",
       "      <td>12</td>\n",
       "    </tr>\n",
       "  </tbody>\n",
       "</table>\n",
       "</div>"
      ],
      "text/plain": [
       "  areaSixGroupNo  complexName\n",
       "0             A1            1\n",
       "1             A2           11\n",
       "2             A3           21\n",
       "3             A4           12"
      ]
     },
     "execution_count": 15,
     "metadata": {},
     "output_type": "execute_result"
    }
   ],
   "source": [
    "df_bdong.drop_duplicates(subset = ['complexNo','areaSixGroupNo']).groupby(['areaSixGroupNo'])['complexName'].count().reset_index()"
   ]
  },
  {
   "cell_type": "markdown",
   "id": "dbcd842a",
   "metadata": {},
   "source": [
    "# 분석"
   ]
  },
  {
   "cell_type": "markdown",
   "id": "1045a2de",
   "metadata": {},
   "source": [
    "# 상태"
   ]
  },
  {
   "cell_type": "code",
   "execution_count": 36,
   "id": "c2cb1577",
   "metadata": {},
   "outputs": [
    {
     "data": {
      "text/html": [
       "<div>\n",
       "<style scoped>\n",
       "    .dataframe tbody tr th:only-of-type {\n",
       "        vertical-align: middle;\n",
       "    }\n",
       "\n",
       "    .dataframe tbody tr th {\n",
       "        vertical-align: top;\n",
       "    }\n",
       "\n",
       "    .dataframe thead th {\n",
       "        text-align: right;\n",
       "    }\n",
       "</style>\n",
       "<table border=\"1\" class=\"dataframe\">\n",
       "  <thead>\n",
       "    <tr style=\"text-align: right;\">\n",
       "      <th></th>\n",
       "      <th>status</th>\n",
       "      <th>complexNo</th>\n",
       "    </tr>\n",
       "  </thead>\n",
       "  <tbody>\n",
       "    <tr>\n",
       "      <th>0</th>\n",
       "      <td>new</td>\n",
       "      <td>14</td>\n",
       "    </tr>\n",
       "    <tr>\n",
       "      <th>1</th>\n",
       "      <td>normal</td>\n",
       "      <td>83</td>\n",
       "    </tr>\n",
       "    <tr>\n",
       "      <th>2</th>\n",
       "      <td>old</td>\n",
       "      <td>101</td>\n",
       "    </tr>\n",
       "  </tbody>\n",
       "</table>\n",
       "</div>"
      ],
      "text/plain": [
       "   status  complexNo\n",
       "0     new         14\n",
       "1  normal         83\n",
       "2     old        101"
      ]
     },
     "execution_count": 36,
     "metadata": {},
     "output_type": "execute_result"
    }
   ],
   "source": [
    "df_sigungu.drop_duplicates(subset = 'complexNo').groupby('status')['complexNo'].count().reset_index()"
   ]
  },
  {
   "cell_type": "code",
   "execution_count": 41,
   "id": "3cd472aa",
   "metadata": {},
   "outputs": [
    {
     "data": {
      "text/html": [
       "<div>\n",
       "<style scoped>\n",
       "    .dataframe tbody tr th:only-of-type {\n",
       "        vertical-align: middle;\n",
       "    }\n",
       "\n",
       "    .dataframe tbody tr th {\n",
       "        vertical-align: top;\n",
       "    }\n",
       "\n",
       "    .dataframe thead th {\n",
       "        text-align: right;\n",
       "    }\n",
       "</style>\n",
       "<table border=\"1\" class=\"dataframe\">\n",
       "  <thead>\n",
       "    <tr style=\"text-align: right;\">\n",
       "      <th></th>\n",
       "      <th>status</th>\n",
       "      <th>complexNo</th>\n",
       "    </tr>\n",
       "  </thead>\n",
       "  <tbody>\n",
       "    <tr>\n",
       "      <th>0</th>\n",
       "      <td>new</td>\n",
       "      <td>1</td>\n",
       "    </tr>\n",
       "    <tr>\n",
       "      <th>1</th>\n",
       "      <td>normal</td>\n",
       "      <td>17</td>\n",
       "    </tr>\n",
       "    <tr>\n",
       "      <th>2</th>\n",
       "      <td>old</td>\n",
       "      <td>3</td>\n",
       "    </tr>\n",
       "  </tbody>\n",
       "</table>\n",
       "</div>"
      ],
      "text/plain": [
       "   status  complexNo\n",
       "0     new          1\n",
       "1  normal         17\n",
       "2     old          3"
      ]
     },
     "execution_count": 41,
     "metadata": {},
     "output_type": "execute_result"
    }
   ],
   "source": [
    "df_bdong.drop_duplicates(subset = 'complexNo').groupby('status')['complexNo'].count().reset_index()"
   ]
  },
  {
   "cell_type": "code",
   "execution_count": 7,
   "id": "f704f455",
   "metadata": {},
   "outputs": [
    {
     "data": {
      "text/html": [
       "<div>\n",
       "<style scoped>\n",
       "    .dataframe tbody tr th:only-of-type {\n",
       "        vertical-align: middle;\n",
       "    }\n",
       "\n",
       "    .dataframe tbody tr th {\n",
       "        vertical-align: top;\n",
       "    }\n",
       "\n",
       "    .dataframe thead th {\n",
       "        text-align: right;\n",
       "    }\n",
       "</style>\n",
       "<table border=\"1\" class=\"dataframe\">\n",
       "  <thead>\n",
       "    <tr style=\"text-align: right;\">\n",
       "      <th></th>\n",
       "      <th>new</th>\n",
       "      <th>normal</th>\n",
       "    </tr>\n",
       "  </thead>\n",
       "  <tbody>\n",
       "    <tr>\n",
       "      <th>complexNo</th>\n",
       "      <td>6</td>\n",
       "      <td>6</td>\n",
       "    </tr>\n",
       "  </tbody>\n",
       "</table>\n",
       "</div>"
      ],
      "text/plain": [
       "          new normal\n",
       "complexNo   6      6"
      ]
     },
     "execution_count": 7,
     "metadata": {},
     "output_type": "execute_result"
    }
   ],
   "source": [
    "df_status = df_bdong.drop_duplicates(subset = 'complexNo').groupby('status')['complexNo'].count().reset_index().T\n",
    "df_status.columns = df_status.iloc[0].values\n",
    "df_status = df_status.drop(index = 'status')\n",
    "df_status"
   ]
  },
  {
   "cell_type": "markdown",
   "id": "8f5f7bcc",
   "metadata": {},
   "source": [
    "# 전체거래량 시계열"
   ]
  },
  {
   "cell_type": "code",
   "execution_count": 8,
   "id": "8465acba",
   "metadata": {},
   "outputs": [],
   "source": [
    "# 거래량 데이터 프레임\n",
    "df_trading = df[(df['isReal']==True)|(df['predict']==True)][['complexNo','complexName','areaSixGroupNo','totalHouseholdCount','yearMonth','isReal','predict','averagePyeong','useApproveYear','status']].reset_index(drop =True)\n",
    "df_sigungu_trading = df_sigungu[(df_sigungu['isReal']==True)|(df['predict']==True)][['complexNo','complexName','areaSixGroupNo','totalHouseholdCount','yearMonth','isReal','predict','averagePyeong','useApproveYear','status']].reset_index(drop =True)\n",
    "df_bdong_trading = df_bdong[(df_bdong['isReal']==True)|(df_bdong['predict']==True)][['complexNo','complexName','areaSixGroupNo','totalHouseholdCount','yearMonth','isReal','predict','averagePyeong','useApproveYear','status']].reset_index(drop =True)"
   ]
  },
  {
   "cell_type": "code",
   "execution_count": 9,
   "id": "2685ea75",
   "metadata": {},
   "outputs": [],
   "source": [
    "# 월별 거래량 변화\n",
    "df_viz_sido = df_trading[df_trading['isReal']==True].groupby('yearMonth')['complexNo'].count().reset_index()\n",
    "df_viz_sigungu = df_sigungu_trading[df_sigungu_trading['isReal']==True].groupby('yearMonth')['complexNo'].count().reset_index()\n",
    "df_viz_bdong = df_bdong_trading[df_bdong_trading['isReal']==True].groupby('yearMonth')['complexNo'].count().reset_index()"
   ]
  },
  {
   "cell_type": "code",
   "execution_count": 10,
   "id": "a89d822c",
   "metadata": {},
   "outputs": [
    {
     "data": {
      "text/plain": [
       "<AxesSubplot:xlabel='yearMonth', ylabel='complexNo'>"
      ]
     },
     "execution_count": 10,
     "metadata": {},
     "output_type": "execute_result"
    },
    {
     "data": {
      "image/png": "[encoded data removed]",
      "text/plain": [
       "<Figure size 864x360 with 1 Axes>"
      ]
     },
     "metadata": {
      "needs_background": "light"
     },
     "output_type": "display_data"
    },
    {
     "data": {
      "image/png": "[encoded data removed]",
      "text/plain": [
       "<Figure size 864x360 with 1 Axes>"
      ]
     },
     "metadata": {
      "needs_background": "light"
     },
     "output_type": "display_data"
    }
   ],
   "source": [
    "plt.figure(figsize = (12, 5))\n",
    "sns.lineplot(df_viz_sigungu['yearMonth'], df_viz_sigungu['complexNo'])\n",
    "plt.figure(figsize = (12, 5))\n",
    "sns.lineplot(df_viz_bdong['yearMonth'], df_viz_bdong['complexNo'])"
   ]
  },
  {
   "cell_type": "markdown",
   "id": "034e27b8",
   "metadata": {},
   "source": [
    "# 면적 구간별 거래량"
   ]
  },
  {
   "cell_type": "code",
   "execution_count": 11,
   "id": "8fd95943",
   "metadata": {},
   "outputs": [
    {
     "data": {
      "text/html": [
       "<div>\n",
       "<style scoped>\n",
       "    .dataframe tbody tr th:only-of-type {\n",
       "        vertical-align: middle;\n",
       "    }\n",
       "\n",
       "    .dataframe tbody tr th {\n",
       "        vertical-align: top;\n",
       "    }\n",
       "\n",
       "    .dataframe thead th {\n",
       "        text-align: right;\n",
       "    }\n",
       "</style>\n",
       "<table border=\"1\" class=\"dataframe\">\n",
       "  <thead>\n",
       "    <tr style=\"text-align: right;\">\n",
       "      <th></th>\n",
       "      <th>areaSixGroupNo</th>\n",
       "      <th>complexNo</th>\n",
       "    </tr>\n",
       "  </thead>\n",
       "  <tbody>\n",
       "    <tr>\n",
       "      <th>0</th>\n",
       "      <td>A3</td>\n",
       "      <td>8226</td>\n",
       "    </tr>\n",
       "    <tr>\n",
       "      <th>1</th>\n",
       "      <td>A2</td>\n",
       "      <td>4305</td>\n",
       "    </tr>\n",
       "    <tr>\n",
       "      <th>2</th>\n",
       "      <td>A1</td>\n",
       "      <td>2033</td>\n",
       "    </tr>\n",
       "    <tr>\n",
       "      <th>3</th>\n",
       "      <td>A4</td>\n",
       "      <td>786</td>\n",
       "    </tr>\n",
       "    <tr>\n",
       "      <th>4</th>\n",
       "      <td>A5</td>\n",
       "      <td>419</td>\n",
       "    </tr>\n",
       "    <tr>\n",
       "      <th>5</th>\n",
       "      <td>A0</td>\n",
       "      <td>249</td>\n",
       "    </tr>\n",
       "  </tbody>\n",
       "</table>\n",
       "</div>"
      ],
      "text/plain": [
       "  areaSixGroupNo  complexNo\n",
       "0             A3       8226\n",
       "1             A2       4305\n",
       "2             A1       2033\n",
       "3             A4        786\n",
       "4             A5        419\n",
       "5             A0        249"
      ]
     },
     "execution_count": 11,
     "metadata": {},
     "output_type": "execute_result"
    }
   ],
   "source": [
    "# 시군구\n",
    "df_sigungu_trading[df_sigungu_trading['isReal']==True].groupby('areaSixGroupNo').count().reset_index().sort_values(by = 'complexNo', ascending = False).reset_index(drop =True)[['areaSixGroupNo','complexNo']]"
   ]
  },
  {
   "cell_type": "code",
   "execution_count": 12,
   "id": "45da1809",
   "metadata": {},
   "outputs": [
    {
     "data": {
      "text/html": [
       "<div>\n",
       "<style scoped>\n",
       "    .dataframe tbody tr th:only-of-type {\n",
       "        vertical-align: middle;\n",
       "    }\n",
       "\n",
       "    .dataframe tbody tr th {\n",
       "        vertical-align: top;\n",
       "    }\n",
       "\n",
       "    .dataframe thead th {\n",
       "        text-align: right;\n",
       "    }\n",
       "</style>\n",
       "<table border=\"1\" class=\"dataframe\">\n",
       "  <thead>\n",
       "    <tr style=\"text-align: right;\">\n",
       "      <th></th>\n",
       "      <th>areaSixGroupNo</th>\n",
       "      <th>complexNo</th>\n",
       "    </tr>\n",
       "  </thead>\n",
       "  <tbody>\n",
       "    <tr>\n",
       "      <th>0</th>\n",
       "      <td>A3</td>\n",
       "      <td>147</td>\n",
       "    </tr>\n",
       "    <tr>\n",
       "      <th>1</th>\n",
       "      <td>A1</td>\n",
       "      <td>113</td>\n",
       "    </tr>\n",
       "    <tr>\n",
       "      <th>2</th>\n",
       "      <td>A0</td>\n",
       "      <td>58</td>\n",
       "    </tr>\n",
       "    <tr>\n",
       "      <th>3</th>\n",
       "      <td>A4</td>\n",
       "      <td>7</td>\n",
       "    </tr>\n",
       "  </tbody>\n",
       "</table>\n",
       "</div>"
      ],
      "text/plain": [
       "  areaSixGroupNo  complexNo\n",
       "0             A3        147\n",
       "1             A1        113\n",
       "2             A0         58\n",
       "3             A4          7"
      ]
     },
     "execution_count": 12,
     "metadata": {},
     "output_type": "execute_result"
    }
   ],
   "source": [
    "# 법정동\n",
    "df_bdong_trading[df_bdong_trading['isReal']==True].groupby('areaSixGroupNo').count().reset_index().sort_values(by = 'complexNo',ascending = False).reset_index(drop =True)[['areaSixGroupNo','complexNo']]"
   ]
  },
  {
   "cell_type": "markdown",
   "id": "978f2f1e",
   "metadata": {},
   "source": [
    "# 신,구축,일반 단지당 거래량"
   ]
  },
  {
   "cell_type": "markdown",
   "id": "f0911a60",
   "metadata": {},
   "source": [
    "- 갯수당 거래량??? 신축의 갯수가 시군구 혹은 법정동이 다르기때문에 ->갯수당이 아닌 세대당 거래량  = 회전율"
   ]
  },
  {
   "cell_type": "markdown",
   "id": "dddd3319",
   "metadata": {},
   "source": [
    "## 법정동 전체 회전율"
   ]
  },
  {
   "cell_type": "markdown",
   "id": "9acd32c0",
   "metadata": {},
   "source": [
    "연도별로 총세대수가 다르다"
   ]
  },
  {
   "cell_type": "code",
   "execution_count": 13,
   "id": "03fa7a90",
   "metadata": {},
   "outputs": [],
   "source": [
    "bSeade = df_bdong.drop_duplicates(subset = 'complexNo')['totalHouseholdCount'].sum()"
   ]
  },
  {
   "cell_type": "code",
   "execution_count": 14,
   "id": "6cc44654",
   "metadata": {},
   "outputs": [
    {
     "data": {
      "text/html": [
       "<div>\n",
       "<style scoped>\n",
       "    .dataframe tbody tr th:only-of-type {\n",
       "        vertical-align: middle;\n",
       "    }\n",
       "\n",
       "    .dataframe tbody tr th {\n",
       "        vertical-align: top;\n",
       "    }\n",
       "\n",
       "    .dataframe thead th {\n",
       "        text-align: right;\n",
       "    }\n",
       "</style>\n",
       "<table border=\"1\" class=\"dataframe\">\n",
       "  <thead>\n",
       "    <tr style=\"text-align: right;\">\n",
       "      <th></th>\n",
       "      <th>complexNo</th>\n",
       "      <th>complexName</th>\n",
       "      <th>areaSixGroupNo</th>\n",
       "      <th>totalHouseholdCount</th>\n",
       "      <th>yearMonth</th>\n",
       "      <th>isReal</th>\n",
       "      <th>predict</th>\n",
       "      <th>averagePyeong</th>\n",
       "      <th>useApproveYear</th>\n",
       "      <th>status</th>\n",
       "    </tr>\n",
       "  </thead>\n",
       "  <tbody>\n",
       "    <tr>\n",
       "      <th>0</th>\n",
       "      <td>108894</td>\n",
       "      <td>쌍암중흥S-클래스리버시티(주상복합)</td>\n",
       "      <td>A3</td>\n",
       "      <td>406</td>\n",
       "      <td>2020-07-01</td>\n",
       "      <td>True</td>\n",
       "      <td>False</td>\n",
       "      <td>1.263090e+07</td>\n",
       "      <td>2017</td>\n",
       "      <td>normal</td>\n",
       "    </tr>\n",
       "    <tr>\n",
       "      <th>1</th>\n",
       "      <td>108894</td>\n",
       "      <td>쌍암중흥S-클래스리버시티(주상복합)</td>\n",
       "      <td>A3</td>\n",
       "      <td>406</td>\n",
       "      <td>2021-03-01</td>\n",
       "      <td>True</td>\n",
       "      <td>False</td>\n",
       "      <td>1.451180e+07</td>\n",
       "      <td>2017</td>\n",
       "      <td>normal</td>\n",
       "    </tr>\n",
       "    <tr>\n",
       "      <th>2</th>\n",
       "      <td>108894</td>\n",
       "      <td>쌍암중흥S-클래스리버시티(주상복합)</td>\n",
       "      <td>A3</td>\n",
       "      <td>406</td>\n",
       "      <td>2020-09-01</td>\n",
       "      <td>True</td>\n",
       "      <td>False</td>\n",
       "      <td>1.237492e+07</td>\n",
       "      <td>2017</td>\n",
       "      <td>normal</td>\n",
       "    </tr>\n",
       "    <tr>\n",
       "      <th>3</th>\n",
       "      <td>108894</td>\n",
       "      <td>쌍암중흥S-클래스리버시티(주상복합)</td>\n",
       "      <td>A3</td>\n",
       "      <td>406</td>\n",
       "      <td>2020-11-01</td>\n",
       "      <td>True</td>\n",
       "      <td>False</td>\n",
       "      <td>1.243878e+07</td>\n",
       "      <td>2017</td>\n",
       "      <td>normal</td>\n",
       "    </tr>\n",
       "    <tr>\n",
       "      <th>4</th>\n",
       "      <td>108894</td>\n",
       "      <td>쌍암중흥S-클래스리버시티(주상복합)</td>\n",
       "      <td>A3</td>\n",
       "      <td>406</td>\n",
       "      <td>2020-06-01</td>\n",
       "      <td>True</td>\n",
       "      <td>False</td>\n",
       "      <td>1.256857e+07</td>\n",
       "      <td>2017</td>\n",
       "      <td>normal</td>\n",
       "    </tr>\n",
       "    <tr>\n",
       "      <th>...</th>\n",
       "      <td>...</td>\n",
       "      <td>...</td>\n",
       "      <td>...</td>\n",
       "      <td>...</td>\n",
       "      <td>...</td>\n",
       "      <td>...</td>\n",
       "      <td>...</td>\n",
       "      <td>...</td>\n",
       "      <td>...</td>\n",
       "      <td>...</td>\n",
       "    </tr>\n",
       "    <tr>\n",
       "      <th>337</th>\n",
       "      <td>114300</td>\n",
       "      <td>힐스테이트리버파크(주상복합)</td>\n",
       "      <td>A3</td>\n",
       "      <td>1111</td>\n",
       "      <td>2023-02-01</td>\n",
       "      <td>True</td>\n",
       "      <td>False</td>\n",
       "      <td>1.899815e+07</td>\n",
       "      <td>2019</td>\n",
       "      <td>new</td>\n",
       "    </tr>\n",
       "    <tr>\n",
       "      <th>338</th>\n",
       "      <td>114300</td>\n",
       "      <td>힐스테이트리버파크(주상복합)</td>\n",
       "      <td>A4</td>\n",
       "      <td>1111</td>\n",
       "      <td>2022-10-01</td>\n",
       "      <td>True</td>\n",
       "      <td>False</td>\n",
       "      <td>2.432688e+07</td>\n",
       "      <td>2019</td>\n",
       "      <td>new</td>\n",
       "    </tr>\n",
       "    <tr>\n",
       "      <th>339</th>\n",
       "      <td>117783</td>\n",
       "      <td>에이엠시티4차(도시형)</td>\n",
       "      <td>A0</td>\n",
       "      <td>102</td>\n",
       "      <td>2023-04-01</td>\n",
       "      <td>False</td>\n",
       "      <td>True</td>\n",
       "      <td>5.828635e+06</td>\n",
       "      <td>2014</td>\n",
       "      <td>normal</td>\n",
       "    </tr>\n",
       "    <tr>\n",
       "      <th>340</th>\n",
       "      <td>117783</td>\n",
       "      <td>에이엠시티4차(도시형)</td>\n",
       "      <td>A0</td>\n",
       "      <td>102</td>\n",
       "      <td>2023-01-01</td>\n",
       "      <td>True</td>\n",
       "      <td>False</td>\n",
       "      <td>5.377808e+06</td>\n",
       "      <td>2014</td>\n",
       "      <td>normal</td>\n",
       "    </tr>\n",
       "    <tr>\n",
       "      <th>341</th>\n",
       "      <td>117962</td>\n",
       "      <td>첨단센트럴파크2차(도시형)</td>\n",
       "      <td>A1</td>\n",
       "      <td>268</td>\n",
       "      <td>2021-08-01</td>\n",
       "      <td>True</td>\n",
       "      <td>False</td>\n",
       "      <td>7.947020e+06</td>\n",
       "      <td>2018</td>\n",
       "      <td>new</td>\n",
       "    </tr>\n",
       "  </tbody>\n",
       "</table>\n",
       "<p>342 rows × 10 columns</p>\n",
       "</div>"
      ],
      "text/plain": [
       "    complexNo          complexName areaSixGroupNo  totalHouseholdCount  yearMonth  isReal  \\\n",
       "0      108894  쌍암중흥S-클래스리버시티(주상복합)             A3                  406 2020-07-01    True   \n",
       "1      108894  쌍암중흥S-클래스리버시티(주상복합)             A3                  406 2021-03-01    True   \n",
       "2      108894  쌍암중흥S-클래스리버시티(주상복합)             A3                  406 2020-09-01    True   \n",
       "3      108894  쌍암중흥S-클래스리버시티(주상복합)             A3                  406 2020-11-01    True   \n",
       "4      108894  쌍암중흥S-클래스리버시티(주상복합)             A3                  406 2020-06-01    True   \n",
       "..        ...                  ...            ...                  ...        ...     ...   \n",
       "337    114300      힐스테이트리버파크(주상복합)             A3                 1111 2023-02-01    True   \n",
       "338    114300      힐스테이트리버파크(주상복합)             A4                 1111 2022-10-01    True   \n",
       "339    117783         에이엠시티4차(도시형)             A0                  102 2023-04-01   False   \n",
       "340    117783         에이엠시티4차(도시형)             A0                  102 2023-01-01    True   \n",
       "341    117962       첨단센트럴파크2차(도시형)             A1                  268 2021-08-01    True   \n",
       "\n",
       "     predict  averagePyeong useApproveYear  status  \n",
       "0      False   1.263090e+07           2017  normal  \n",
       "1      False   1.451180e+07           2017  normal  \n",
       "2      False   1.237492e+07           2017  normal  \n",
       "3      False   1.243878e+07           2017  normal  \n",
       "4      False   1.256857e+07           2017  normal  \n",
       "..       ...            ...            ...     ...  \n",
       "337    False   1.899815e+07           2019     new  \n",
       "338    False   2.432688e+07           2019     new  \n",
       "339     True   5.828635e+06           2014  normal  \n",
       "340    False   5.377808e+06           2014  normal  \n",
       "341    False   7.947020e+06           2018     new  \n",
       "\n",
       "[342 rows x 10 columns]"
      ]
     },
     "execution_count": 14,
     "metadata": {},
     "output_type": "execute_result"
    }
   ],
   "source": [
    "df_bdong_trading"
   ]
  },
  {
   "cell_type": "code",
   "execution_count": 15,
   "id": "e2407090",
   "metadata": {},
   "outputs": [],
   "source": [
    "df_status2 = pd.DataFrame(df_bdong_trading[df_trading['isReal']==True].groupby('status')['complexNo'].count()).reset_index().T"
   ]
  },
  {
   "cell_type": "code",
   "execution_count": 16,
   "id": "2b7e87b8",
   "metadata": {},
   "outputs": [],
   "source": [
    "df_status2.columns = df_status2.iloc[0].values\n",
    "df_status2 = df_status2.drop(index = 'status')"
   ]
  },
  {
   "cell_type": "code",
   "execution_count": 17,
   "id": "8f56c22d",
   "metadata": {},
   "outputs": [
    {
     "data": {
      "text/html": [
       "<div>\n",
       "<style scoped>\n",
       "    .dataframe tbody tr th:only-of-type {\n",
       "        vertical-align: middle;\n",
       "    }\n",
       "\n",
       "    .dataframe tbody tr th {\n",
       "        vertical-align: top;\n",
       "    }\n",
       "\n",
       "    .dataframe thead th {\n",
       "        text-align: right;\n",
       "    }\n",
       "</style>\n",
       "<table border=\"1\" class=\"dataframe\">\n",
       "  <thead>\n",
       "    <tr style=\"text-align: right;\">\n",
       "      <th></th>\n",
       "      <th>new</th>\n",
       "      <th>normal</th>\n",
       "    </tr>\n",
       "  </thead>\n",
       "  <tbody>\n",
       "    <tr>\n",
       "      <th>complexNo</th>\n",
       "      <td>13.166667</td>\n",
       "      <td>42.5</td>\n",
       "    </tr>\n",
       "  </tbody>\n",
       "</table>\n",
       "</div>"
      ],
      "text/plain": [
       "                 new normal\n",
       "complexNo  13.166667   42.5"
      ]
     },
     "execution_count": 17,
     "metadata": {},
     "output_type": "execute_result"
    }
   ],
   "source": [
    "df_result = df_status2/df_status\n",
    "df_result"
   ]
  },
  {
   "cell_type": "markdown",
   "id": "b7a5256f",
   "metadata": {},
   "source": [
    "# 대장단지"
   ]
  },
  {
   "cell_type": "markdown",
   "id": "0b1d3f24",
   "metadata": {},
   "source": [
    "- 신,구축,일반 평단가 평균"
   ]
  },
  {
   "cell_type": "code",
   "execution_count": 18,
   "id": "513f6c08",
   "metadata": {},
   "outputs": [
    {
     "data": {
      "text/html": [
       "<div>\n",
       "<style scoped>\n",
       "    .dataframe tbody tr th:only-of-type {\n",
       "        vertical-align: middle;\n",
       "    }\n",
       "\n",
       "    .dataframe tbody tr th {\n",
       "        vertical-align: top;\n",
       "    }\n",
       "\n",
       "    .dataframe thead th {\n",
       "        text-align: right;\n",
       "    }\n",
       "</style>\n",
       "<table border=\"1\" class=\"dataframe\">\n",
       "  <thead>\n",
       "    <tr style=\"text-align: right;\">\n",
       "      <th></th>\n",
       "      <th>status</th>\n",
       "      <th>averagePyeong</th>\n",
       "    </tr>\n",
       "  </thead>\n",
       "  <tbody>\n",
       "    <tr>\n",
       "      <th>0</th>\n",
       "      <td>new</td>\n",
       "      <td>19538015.25</td>\n",
       "    </tr>\n",
       "    <tr>\n",
       "      <th>1</th>\n",
       "      <td>normal</td>\n",
       "      <td>13884351.50</td>\n",
       "    </tr>\n",
       "  </tbody>\n",
       "</table>\n",
       "</div>"
      ],
      "text/plain": [
       "   status  averagePyeong\n",
       "0     new    19538015.25\n",
       "1  normal    13884351.50"
      ]
     },
     "execution_count": 18,
     "metadata": {},
     "output_type": "execute_result"
    }
   ],
   "source": [
    "df_bdong_trading[df_bdong_trading['yearMonth']=='2023-03-01'].groupby('status')['averagePyeong'].mean().reset_index()"
   ]
  },
  {
   "cell_type": "markdown",
   "id": "141f25f4",
   "metadata": {},
   "source": [
    "- 현재 예측가격 기준 ToP5단지"
   ]
  },
  {
   "cell_type": "code",
   "execution_count": 19,
   "id": "8e7f9b1f",
   "metadata": {},
   "outputs": [
    {
     "data": {
      "text/html": [
       "<div>\n",
       "<style scoped>\n",
       "    .dataframe tbody tr th:only-of-type {\n",
       "        vertical-align: middle;\n",
       "    }\n",
       "\n",
       "    .dataframe tbody tr th {\n",
       "        vertical-align: top;\n",
       "    }\n",
       "\n",
       "    .dataframe thead th {\n",
       "        text-align: right;\n",
       "    }\n",
       "</style>\n",
       "<table border=\"1\" class=\"dataframe\">\n",
       "  <thead>\n",
       "    <tr style=\"text-align: right;\">\n",
       "      <th></th>\n",
       "      <th>complexNo</th>\n",
       "      <th>complexName</th>\n",
       "      <th>areaSixGroupNo</th>\n",
       "      <th>totalHouseholdCount</th>\n",
       "      <th>yearMonth</th>\n",
       "      <th>isReal</th>\n",
       "      <th>predict</th>\n",
       "      <th>averagePyeong</th>\n",
       "      <th>useApproveYear</th>\n",
       "      <th>status</th>\n",
       "    </tr>\n",
       "  </thead>\n",
       "  <tbody>\n",
       "    <tr>\n",
       "      <th>0</th>\n",
       "      <td>114300</td>\n",
       "      <td>힐스테이트리버파크(주상복합)</td>\n",
       "      <td>A3</td>\n",
       "      <td>1111</td>\n",
       "      <td>2023-03-01</td>\n",
       "      <td>True</td>\n",
       "      <td>False</td>\n",
       "      <td>19538015.25</td>\n",
       "      <td>2019</td>\n",
       "      <td>new</td>\n",
       "    </tr>\n",
       "    <tr>\n",
       "      <th>1</th>\n",
       "      <td>114300</td>\n",
       "      <td>힐스테이트리버파크(주상복합)</td>\n",
       "      <td>A3</td>\n",
       "      <td>1111</td>\n",
       "      <td>2023-03-01</td>\n",
       "      <td>True</td>\n",
       "      <td>False</td>\n",
       "      <td>19538015.25</td>\n",
       "      <td>2019</td>\n",
       "      <td>new</td>\n",
       "    </tr>\n",
       "    <tr>\n",
       "      <th>2</th>\n",
       "      <td>114300</td>\n",
       "      <td>힐스테이트리버파크(주상복합)</td>\n",
       "      <td>A3</td>\n",
       "      <td>1111</td>\n",
       "      <td>2023-03-01</td>\n",
       "      <td>True</td>\n",
       "      <td>False</td>\n",
       "      <td>19538015.25</td>\n",
       "      <td>2019</td>\n",
       "      <td>new</td>\n",
       "    </tr>\n",
       "    <tr>\n",
       "      <th>3</th>\n",
       "      <td>114300</td>\n",
       "      <td>힐스테이트리버파크(주상복합)</td>\n",
       "      <td>A3</td>\n",
       "      <td>1111</td>\n",
       "      <td>2023-03-01</td>\n",
       "      <td>True</td>\n",
       "      <td>False</td>\n",
       "      <td>19538015.25</td>\n",
       "      <td>2019</td>\n",
       "      <td>new</td>\n",
       "    </tr>\n",
       "    <tr>\n",
       "      <th>4</th>\n",
       "      <td>108894</td>\n",
       "      <td>쌍암중흥S-클래스리버시티(주상복합)</td>\n",
       "      <td>A3</td>\n",
       "      <td>406</td>\n",
       "      <td>2023-03-01</td>\n",
       "      <td>True</td>\n",
       "      <td>False</td>\n",
       "      <td>13884351.50</td>\n",
       "      <td>2017</td>\n",
       "      <td>normal</td>\n",
       "    </tr>\n",
       "  </tbody>\n",
       "</table>\n",
       "</div>"
      ],
      "text/plain": [
       "  complexNo          complexName areaSixGroupNo  totalHouseholdCount  yearMonth  isReal  predict  \\\n",
       "0    114300      힐스테이트리버파크(주상복합)             A3                 1111 2023-03-01    True    False   \n",
       "1    114300      힐스테이트리버파크(주상복합)             A3                 1111 2023-03-01    True    False   \n",
       "2    114300      힐스테이트리버파크(주상복합)             A3                 1111 2023-03-01    True    False   \n",
       "3    114300      힐스테이트리버파크(주상복합)             A3                 1111 2023-03-01    True    False   \n",
       "4    108894  쌍암중흥S-클래스리버시티(주상복합)             A3                  406 2023-03-01    True    False   \n",
       "\n",
       "   averagePyeong useApproveYear  status  \n",
       "0    19538015.25           2019     new  \n",
       "1    19538015.25           2019     new  \n",
       "2    19538015.25           2019     new  \n",
       "3    19538015.25           2019     new  \n",
       "4    13884351.50           2017  normal  "
      ]
     },
     "execution_count": 19,
     "metadata": {},
     "output_type": "execute_result"
    }
   ],
   "source": [
    "df_bdong_trading[df_bdong_trading['yearMonth']=='2023-03-01'].sort_values(by ='averagePyeong',ascending = False).reset_index(drop = True).iloc[:5]"
   ]
  },
  {
   "cell_type": "code",
   "execution_count": null,
   "id": "dfcf1b6e",
   "metadata": {
    "scrolled": true
   },
   "outputs": [],
   "source": []
  },
  {
   "cell_type": "code",
   "execution_count": null,
   "id": "fd0fa29e",
   "metadata": {},
   "outputs": [],
   "source": []
  },
  {
   "cell_type": "code",
   "execution_count": null,
   "id": "a089057b",
   "metadata": {},
   "outputs": [],
   "source": []
  }
 ],
 "metadata": {
  "kernelspec": {
   "display_name": "jupyter",
   "language": "python",
   "name": "jupyter"
  },
  "language_info": {
   "codemirror_mode": {
    "name": "ipython",
    "version": 3
   },
   "file_extension": ".py",
   "mimetype": "text/x-python",
   "name": "python",
   "nbconvert_exporter": "python",
   "pygments_lexer": "ipython3",
   "version": "3.10.4"
  },
  "toc": {
   "base_numbering": 1,
   "nav_menu": {},
   "number_sections": true,
   "sideBar": true,
   "skip_h1_title": false,
   "title_cell": "Table of Contents",
   "title_sidebar": "Contents",
   "toc_cell": false,
   "toc_position": {
    "height": "857.6px",
    "left": "26px",
    "top": "109.725px",
    "width": "384.275px"
   },
   "toc_section_display": true,
   "toc_window_display": false
  }
 },
 "nbformat": 4,
 "nbformat_minor": 5
}
