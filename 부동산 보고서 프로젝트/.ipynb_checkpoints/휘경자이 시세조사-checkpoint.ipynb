{
 "cells": [
  {
   "cell_type": "code",
   "execution_count": 1,
   "id": "720687a2",
   "metadata": {},
   "outputs": [],
   "source": [
    "# 경로설정\n",
    "import sys\n",
    "path = \"C:\\github/aide-analysis/\"\n",
    "path2 = 'C:\\github/aide-analysis/notebook/temp_ljs/Develop/지주리포트Lite/실거래 이상값 제거 연구 및 추론/모듈 및 압축파일 보관 폴더'\n",
    "sys.path.append(path)\n",
    "sys.path.append(path2)\n",
    "\n",
    "import os\n",
    "import sys\n",
    "from pathlib import Path\n",
    "sys.path.append(str(Path(os.getcwd())))\n",
    "# 한글폰트\n",
    "import os\n",
    "import matplotlib.pyplot as plt\n",
    "if os.name =='posix':\n",
    "    plt.rc('font',family = 'ApplGothic')\n",
    "else:\n",
    "    plt.rc('font',family = 'Malgun Gothic')\n",
    "    \n",
    "# 경고출력문 제거\n",
    "import warnings\n",
    "warnings.filterwarnings(\"ignore\")\n",
    "\n",
    "# 모듈 import\n",
    "import pandas as pd\n",
    "import src\n",
    "from src.openapi import KakaoLocalAPI as kakao\n",
    "from openpyxl import load_workbook\n",
    "from src.utils import insert_dataframe_to_excel_sheet\n",
    "from src.sql import DatabaseHandler\n",
    "from src.temp import *\n",
    "from datetime import datetime\n",
    "import datetime\n",
    "from dateutil.relativedelta import relativedelta\n",
    "from src.bigquery import BigqueryHandler\n",
    "import seaborn as sns\n",
    "import numpy as np\n",
    "import statistics\n",
    "from tqdm import tqdm\n",
    "import config\n",
    "from core.config import Config\n",
    "import json\n",
    "from datetime import datetime\n",
    "import geopandas as gpd\n",
    "from tqdm import tqdm\n",
    "import folium\n",
    "from src.bigquery import bigquery_client, bigquery\n",
    "import geopandas as gpd\n",
    "from shapely import wkt\n",
    "from openpyxl import load_workbook\n",
    "from src.utils import insert_dataframe_to_excel_sheet\n",
    "from openpyxl.utils.dataframe import dataframe_to_rows\n",
    "from difflib import SequenceMatcher\n",
    "import openpyxl\n",
    "import math\n",
    "from 실거래전처리 import TradeProcessing\n",
    "from dataclasses import dataclass\n",
    "config = Config()\n",
    "BH = BigqueryHandler()\n",
    "\n",
    "\n",
    "# DataFrame 디스플레이 설정\n",
    "pd.set_option('display.max_columns', 250)\n",
    "pd.set_option('display.max_rows', 250)\n",
    "pd.set_option('display.width', 100)"
   ]
  },
  {
   "cell_type": "code",
   "execution_count": 2,
   "id": "2695b764",
   "metadata": {},
   "outputs": [],
   "source": [
    "docs = kakao.search_address('서울특별시 동대문구 휘경동 95-1')\n",
    "bdongCode = docs['documents'][0]['address']['b_code'][:-2]\n",
    "sigunguCode = docs['documents'][0]['address']['b_code'][:5]\n",
    "lon = docs['documents'][0]['x']\n",
    "lat = docs['documents'][0]['y']"
   ]
  },
  {
   "cell_type": "code",
   "execution_count": 21,
   "id": "8ddab055",
   "metadata": {},
   "outputs": [],
   "source": [
    "# sql = f\"\"\"\n",
    "# SELECT area.*, danji.longitude, danji.latitude,danji.useApproveYear, danji.totalHouseholdCount\n",
    "# FROM `aidepartners.aide.complex_area_information_prod` AS area\n",
    "# LEFT JOIN (SELECT complexNo, longitude, latitude, useApproveYear, totalHouseholdCount FROM `aidepartners.aide.complex_danji_information`) AS danji ON area.complexNo = danji.complexNo\n",
    "# WHERE ST_DISTANCE(st_geogpoint({lon},{lat}), st_geogpoint(danji.longitude,danji.latitude),False)<=2000 and realEstateTypeCode IN ('APT','ABYG') AND area.areaSixGroupNo IN (\"A0\",\"A1\")\n",
    "# \"\"\"\n",
    "# df = BH.read_table(sql)"
   ]
  },
  {
   "cell_type": "code",
   "execution_count": 123,
   "id": "95c107d2",
   "metadata": {},
   "outputs": [],
   "source": [
    "sql = f\"\"\"\n",
    "SELECT area.*, danji.longitude,danji.sigunguCode, danji.bdongCode,  danji.latitude,danji.useApproveYear, danji.totalHouseholdCount,\n",
    "       price.dealPrice, price.contractDate, (price.dealPrice*10000)/ area.supplyPyeong AS pricePerPyeong\n",
    "FROM `aidepartners.aide.complex_area_information_prod` AS area\n",
    "LEFT JOIN (SELECT complexNo, sigunguCode, bdongCode, longitude, latitude, useApproveYear, totalHouseholdCount FROM `aidepartners.aide.complex_danji_information`) AS danji ON area.complexNo = danji.complexNo\n",
    "LEFT JOIN (SELECT complexNo, areaNo,dealPrice,contractDate  FROM `aidepartners.aide.complex_real_price_prod` WHERE tradeType = 'A1' AND contractDate >='2018-01-01') AS price ON area.complexNo = price.complexNo AND area.pyeongNo = price.areaNo\n",
    "WHERE danji.sigunguCode = \"{sigunguCode}\" and realEstateTypeCode IN ('APT','ABYG') AND area.areaSixGroupNo IN (\"A0\",\"A1\")\n",
    "\n",
    "\"\"\"\n",
    "df = BH.read_table(sql)"
   ]
  },
  {
   "cell_type": "code",
   "execution_count": 124,
   "id": "a6d671a8",
   "metadata": {},
   "outputs": [],
   "source": [
    "# 총세대수 100세대 이상\n",
    "df = df[df['totalHouseholdCount']>=100].reset_index(drop =True)"
   ]
  },
  {
   "cell_type": "code",
   "execution_count": 125,
   "id": "0adacb23",
   "metadata": {},
   "outputs": [],
   "source": [
    "# 필요한 컬럼 색인\n",
    "df = df[['pnuCode','complexNo','complexName','useApproveYear','totalHouseholdCount','realEstateTypeCode','pyeongNo','supplyArea','jeonyongArea','householdCountByPyeong','jeonyongRate','areaSixGroupNo','entranceType','roomCount','bathroomCount','dealPrice','contractDate','pricePerPyeong']]"
   ]
  },
  {
   "cell_type": "markdown",
   "id": "c8a4e9fe",
   "metadata": {},
   "source": [
    "# 마포구 최근 5년내 건축된 단지들의 가격"
   ]
  },
  {
   "cell_type": "code",
   "execution_count": 126,
   "id": "a7f856a3",
   "metadata": {},
   "outputs": [],
   "source": [
    "df_recent = df[(df['jeonyongArea']>=30)&(df['useApproveYear']>=\"2018\")]\n",
    "a , b = df_recent.loc[-df_recent['dealPrice'].isna(),'complexNo'].unique()"
   ]
  },
  {
   "cell_type": "code",
   "execution_count": 127,
   "id": "acdfb944",
   "metadata": {},
   "outputs": [],
   "source": [
    "df_a = df_recent[df_recent['complexNo']==a]\n",
    "df_b = df_recent[df_recent['complexNo']==b]"
   ]
  },
  {
   "cell_type": "code",
   "execution_count": 129,
   "id": "978813dd",
   "metadata": {},
   "outputs": [
    {
     "data": {
      "text/plain": [
       "Text(0.5, 1.0, '마포구 최근 5년내 건축된 단지 가격(휘경자이디센시아와 비슷한면적)')"
      ]
     },
     "execution_count": 129,
     "metadata": {},
     "output_type": "execute_result"
    },
    {
     "data": {
      "image/png": "[encoded data removed]",
      "text/plain": [
       "<Figure size 432x288 with 1 Axes>"
      ]
     },
     "metadata": {
      "needs_background": "light"
     },
     "output_type": "display_data"
    }
   ],
   "source": [
    "sns.scatterplot(df_a['contractDate'], df_a['pricePerPyeong'], label = df_a['complexName'].iloc[0])\n",
    "sns.scatterplot(df_b['contractDate'], df_b['pricePerPyeong'], label = df_b['complexName'].iloc[0])\n",
    "\n",
    "# y축 설정\n",
    "current_values =plt.gca().get_yticks()\n",
    "plt.gca().set_yticklabels(['{:,.0f}'.format(x) for x in current_values])\n",
    "\n",
    "# grid 설정\n",
    "plt.grid(axis = \"y\", c = \"lightgray\")\n",
    "plt.grid(axis = \"x\", c = \"lightgray\")\n",
    "plt.legend()\n",
    "plt.title('마포구 최근 5년내 건축된 단지 가격(휘경자이디센시아와 비슷한면적)')\n"
   ]
  },
  {
   "cell_type": "code",
   "execution_count": 143,
   "id": "edeff45d",
   "metadata": {
    "scrolled": false
   },
   "outputs": [],
   "source": [
    "df_recent = df[(df['jeonyongArea']>=30)&(df['totalHouseholdCount']>=200)]\n",
    "for i in list(df_recent.loc[-df_recent['dealPrice'].isna(),'complexNo'].unique()):\n",
    "    test =df_recent.loc[df_recent['complexNo']==i]\n",
    "    name = test['complexName'].iloc[0]\n",
    "    year = test['useApproveYear'].iloc[0]\n",
    "    area = test['jeonyongArea'].iloc[0]\n",
    "    sedae = test['totalHouseholdCount'].iloc[0]\n",
    "    sns.scatterplot(test['contractDate'], test['pricePerPyeong'], label = test['complexName'].iloc[0])\n",
    "    # y축 설정\n",
    "    current_values =plt.gca().get_yticks()\n",
    "    plt.gca().set_yticklabels(['{:,.0f}'.format(x) for x in current_values])\n",
    "\n",
    "    # grid 설정\n",
    "    plt.grid(axis = \"y\", c = \"lightgray\")\n",
    "    plt.grid(axis = \"x\", c = \"lightgray\")\n",
    "    plt.legend()\n",
    "    plt.title(f'{name}단지 / 전용면적 {area}/ 사용승인일 {year}, 세대수{sedae}')\n",
    "    plt.savefig(f'{name}단지.png')\n",
    "    \n",
    "    # 각 단지별로 시각화 하기 위한 코드\n",
    "    fig = plt.gcf()\n",
    "    plt.close(fig)"
   ]
  },
  {
   "cell_type": "code",
   "execution_count": null,
   "id": "fe9eb71b",
   "metadata": {},
   "outputs": [],
   "source": []
  }
 ],
 "metadata": {
  "kernelspec": {
   "display_name": "jupyter",
   "language": "python",
   "name": "jupyter"
  },
  "language_info": {
   "codemirror_mode": {
    "name": "ipython",
    "version": 3
   },
   "file_extension": ".py",
   "mimetype": "text/x-python",
   "name": "python",
   "nbconvert_exporter": "python",
   "pygments_lexer": "ipython3",
   "version": "3.10.4"
  },
  "toc": {
   "base_numbering": 1,
   "nav_menu": {},
   "number_sections": true,
   "sideBar": true,
   "skip_h1_title": false,
   "title_cell": "Table of Contents",
   "title_sidebar": "Contents",
   "toc_cell": false,
   "toc_position": {},
   "toc_section_display": true,
   "toc_window_display": false
  }
 },
 "nbformat": 4,
 "nbformat_minor": 5
}
