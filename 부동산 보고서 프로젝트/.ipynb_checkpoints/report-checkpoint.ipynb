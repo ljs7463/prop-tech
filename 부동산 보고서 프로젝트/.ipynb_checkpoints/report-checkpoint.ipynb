{
 "cells": [
  {
   "cell_type": "code",
   "execution_count": 3,
   "id": "95fc008f",
   "metadata": {},
   "outputs": [],
   "source": [
    "# 경로설정\n",
    "import sys\n",
    "path = \"C:\\github/aide-analysis/\"\n",
    "path2 = 'C:\\github/aide-analysis/notebook/temp_ljs/Develop/지주리포트Lite/실거래 이상값 제거 연구 및 추론/모듈 및 압축파일 보관 폴더'\n",
    "sys.path.append(path)\n",
    "sys.path.append(path2)\n",
    "\n",
    "import os\n",
    "import sys\n",
    "from pathlib import Path\n",
    "sys.path.append(str(Path(os.getcwd())))\n",
    "# 한글폰트\n",
    "import os\n",
    "import matplotlib.pyplot as plt\n",
    "if os.name =='posix':\n",
    "    plt.rc('font',family = 'ApplGothic')\n",
    "else:\n",
    "    plt.rc('font',family = 'Malgun Gothic')\n",
    "    \n",
    "# 경고출력문 제거\n",
    "import warnings\n",
    "warnings.filterwarnings(\"ignore\")\n",
    "\n",
    "# 모듈 import\n",
    "import pandas as pd\n",
    "import src\n",
    "from src.openapi import KakaoLocalAPI as kakao\n",
    "from openpyxl import load_workbook\n",
    "from src.utils import insert_dataframe_to_excel_sheet\n",
    "from src.sql import DatabaseHandler\n",
    "from src.temp import *\n",
    "from datetime import datetime\n",
    "import datetime\n",
    "from dateutil.relativedelta import relativedelta\n",
    "from src.bigquery import BigqueryHandler\n",
    "import seaborn as sns\n",
    "import numpy as np\n",
    "import statistics\n",
    "from tqdm import tqdm\n",
    "import config\n",
    "from core.config import Config\n",
    "import json\n",
    "from datetime import datetime\n",
    "import geopandas as gpd\n",
    "from tqdm import tqdm\n",
    "import folium\n",
    "from src.bigquery import bigquery_client, bigquery\n",
    "import geopandas as gpd\n",
    "from shapely import wkt\n",
    "from openpyxl import load_workbook\n",
    "from src.utils import insert_dataframe_to_excel_sheet\n",
    "from openpyxl.utils.dataframe import dataframe_to_rows\n",
    "from difflib import SequenceMatcher\n",
    "import openpyxl\n",
    "import math\n",
    "from dataclasses import dataclass\n",
    "config = Config()\n",
    "BH = BigqueryHandler()\n",
    "\n",
    "\n",
    "# DataFrame 디스플레이 설정\n",
    "pd.set_option('display.max_columns', 250)\n",
    "pd.set_option('display.max_rows', 250)\n",
    "pd.set_option('display.width', 100)"
   ]
  },
  {
   "cell_type": "markdown",
   "id": "2654cecd",
   "metadata": {},
   "source": [
    "## 가격 \n",
    "\n",
    "- 특정 단지의 가격\n",
    "    - 모든 타입 매매 평당가 평균으로 추세\n",
    "    - 면적 구간별 매매 평당가 추세 (전세도 같이 표현) --> 전세를 같이표현하는 이유는 전세가의 움직임과 함께보면서 단지의 특성파악을 위함\n",
    "    - 59/84에 해당하는 면적에 대한 매매 평당가 (전세도 같이 표현)\n",
    "- 반경 1km, 2km, 시군구, 시도내 단지들의 가격\n",
    "    - 면적구간별/ 59 / 84 에 따른 평균 가격흐름\n",
    "    - 구간내 세대수가 가장 많은 단지들 의 움직임 별도 표현\n",
    "    - 특정 단지와 유사한 단지들의 흐름\n",
    "    - 신,구축,일반에 따른 가격움직임 흐름\n",
    "\n",
    "\n",
    "## 거래량\n",
    "- 외형가 6억이상 9억이상 15억이상 3억이상 3억이하에 따른 거래량\n",
    "- 전세 거래량, 매매 거래량, 월세 거래량\n",
    "- 면적 그룹별 거래량\n",
    "- 59/84 거래량"
   ]
  },
  {
   "cell_type": "code",
   "execution_count": 5,
   "id": "5f2521f9",
   "metadata": {},
   "outputs": [],
   "source": [
    "docs = kakao.search_address('강서구 마곡서로 133')"
   ]
  },
  {
   "cell_type": "code",
   "execution_count": 11,
   "id": "6cbeac57",
   "metadata": {},
   "outputs": [],
   "source": [
    "sidoCode = docs['documents'][0]['address']['b_code'][:2]\n",
    "sigunguCode = docs['documents'][0]['address']['b_code'][:5]\n",
    "bdongCode = docs['documents'][0]['address']['b_code'][:10]"
   ]
  },
  {
   "cell_type": "code",
   "execution_count": 289,
   "id": "e52987ed",
   "metadata": {},
   "outputs": [],
   "source": [
    "sql = f\"\"\"\n",
    "SELECT complexNo, \n",
    "       complexName, \n",
    "       sigunguCode, \n",
    "       bdongCode, \n",
    "       address, \n",
    "       totalHouseholdCount,\n",
    "       useApproveYear,\n",
    "       CASE\n",
    "       WHEN useApproveYear >='2018'THEN \"new\"\n",
    "       WHEN useApproveYear < \"2018\" AND useApproveYear >= \"2003\" THEN \"normal\"\n",
    "       WHEN useApproveYear < \"2013\" THEN \"old\" END AS status,\n",
    "       supplyArea,\n",
    "       supplyPyeong,\n",
    "       jeonyongArea,\n",
    "       jeonyongPyeong,\n",
    "       areaSixGroupNo,\n",
    "       tradeType,\n",
    "       dealPrice,\n",
    "       pricePerSupplyPyeong,\n",
    "       averagePyeong,\n",
    "       averagePrice,\n",
    "       isReal,\n",
    "       yearMonth,\n",
    "       predict\n",
    "FROM `aidepartners.aide.aide_apartment_price_origin`\n",
    "WHERE sidoCode = \"{sidoCode}\" and yearMonth >='2020-01-01' AND totalHouseholdCount>=100\n",
    "\"\"\"\n",
    "# 시도\n",
    "df = BH.read_table(sql)\n",
    "# dbdate to datetime\n",
    "df['yearMonth'] = pd.to_datetime(df['yearMonth'])\n",
    "# 시군구\n",
    "df_sigungu = df[df['sigunguCode']==sigunguCode].reset_index(drop =True)\n",
    "# 법정동\n",
    "df_bdong = df[df['bdongCode']==bdongCode].reset_index(drop =True)"
   ]
  },
  {
   "cell_type": "markdown",
   "id": "1045a2de",
   "metadata": {},
   "source": [
    "# 상태"
   ]
  },
  {
   "cell_type": "code",
   "execution_count": 290,
   "id": "c2cb1577",
   "metadata": {},
   "outputs": [
    {
     "data": {
      "text/html": [
       "<div>\n",
       "<style scoped>\n",
       "    .dataframe tbody tr th:only-of-type {\n",
       "        vertical-align: middle;\n",
       "    }\n",
       "\n",
       "    .dataframe tbody tr th {\n",
       "        vertical-align: top;\n",
       "    }\n",
       "\n",
       "    .dataframe thead th {\n",
       "        text-align: right;\n",
       "    }\n",
       "</style>\n",
       "<table border=\"1\" class=\"dataframe\">\n",
       "  <thead>\n",
       "    <tr style=\"text-align: right;\">\n",
       "      <th></th>\n",
       "      <th>status</th>\n",
       "      <th>complexNo</th>\n",
       "    </tr>\n",
       "  </thead>\n",
       "  <tbody>\n",
       "    <tr>\n",
       "      <th>0</th>\n",
       "      <td>new</td>\n",
       "      <td>15</td>\n",
       "    </tr>\n",
       "    <tr>\n",
       "      <th>1</th>\n",
       "      <td>normal</td>\n",
       "      <td>83</td>\n",
       "    </tr>\n",
       "    <tr>\n",
       "      <th>2</th>\n",
       "      <td>old</td>\n",
       "      <td>101</td>\n",
       "    </tr>\n",
       "  </tbody>\n",
       "</table>\n",
       "</div>"
      ],
      "text/plain": [
       "   status  complexNo\n",
       "0     new         15\n",
       "1  normal         83\n",
       "2     old        101"
      ]
     },
     "execution_count": 290,
     "metadata": {},
     "output_type": "execute_result"
    }
   ],
   "source": [
    "df_sigungu.drop_duplicates(subset = 'complexNo').groupby('status')['complexNo'].count().reset_index()"
   ]
  },
  {
   "cell_type": "code",
   "execution_count": 291,
   "id": "f704f455",
   "metadata": {},
   "outputs": [
    {
     "data": {
      "text/html": [
       "<div>\n",
       "<style scoped>\n",
       "    .dataframe tbody tr th:only-of-type {\n",
       "        vertical-align: middle;\n",
       "    }\n",
       "\n",
       "    .dataframe tbody tr th {\n",
       "        vertical-align: top;\n",
       "    }\n",
       "\n",
       "    .dataframe thead th {\n",
       "        text-align: right;\n",
       "    }\n",
       "</style>\n",
       "<table border=\"1\" class=\"dataframe\">\n",
       "  <thead>\n",
       "    <tr style=\"text-align: right;\">\n",
       "      <th></th>\n",
       "      <th>new</th>\n",
       "      <th>normal</th>\n",
       "      <th>old</th>\n",
       "    </tr>\n",
       "  </thead>\n",
       "  <tbody>\n",
       "    <tr>\n",
       "      <th>complexNo</th>\n",
       "      <td>1</td>\n",
       "      <td>17</td>\n",
       "      <td>3</td>\n",
       "    </tr>\n",
       "  </tbody>\n",
       "</table>\n",
       "</div>"
      ],
      "text/plain": [
       "          new normal old\n",
       "complexNo   1     17   3"
      ]
     },
     "execution_count": 291,
     "metadata": {},
     "output_type": "execute_result"
    }
   ],
   "source": [
    "df_status = df_bdong.drop_duplicates(subset = 'complexNo').groupby('status')['complexNo'].count().reset_index().T\n",
    "df_status.columns = df_status.iloc[0].values\n",
    "df_status = df_status.drop(index = 'status')\n",
    "df_status"
   ]
  },
  {
   "cell_type": "markdown",
   "id": "8f5f7bcc",
   "metadata": {},
   "source": [
    "# 전체거래량 시계열"
   ]
  },
  {
   "cell_type": "code",
   "execution_count": 292,
   "id": "8465acba",
   "metadata": {},
   "outputs": [],
   "source": [
    "# 거래량 데이터 프레임\n",
    "df_trading = df[(df['isReal']==True)|(df['predict']==True)][['complexNo','complexName','areaSixGroupNo','totalHouseholdCount','yearMonth','isReal','predict','averagePyeong','useApproveYear','status']].reset_index(drop =True)\n",
    "df_sigungu_trading = df_sigungu[(df_sigungu['isReal']==True)|(df['predict']==True)][['complexNo','complexName','areaSixGroupNo','totalHouseholdCount','yearMonth','isReal','predict','averagePyeong','useApproveYear','status']].reset_index(drop =True)\n",
    "df_bdong_trading = df_bdong[(df_bdong['isReal']==True)|(df_bdong['predict']==True)][['complexNo','complexName','areaSixGroupNo','totalHouseholdCount','yearMonth','isReal','predict','averagePyeong','useApproveYear','status']].reset_index(drop =True)"
   ]
  },
  {
   "cell_type": "code",
   "execution_count": 293,
   "id": "2685ea75",
   "metadata": {},
   "outputs": [],
   "source": [
    "# 월별 거래량 변화\n",
    "df_viz_sido = df_trading[df_trading['isReal']==True].groupby('yearMonth')['complexNo'].count().reset_index()\n",
    "df_viz_sigungu = df_sigungu_trading[df_sigungu_trading['isReal']==True].groupby('yearMonth')['complexNo'].count().reset_index()\n",
    "df_viz_bdong = df_bdong_trading[df_bdong_trading['isReal']==True].groupby('yearMonth')['complexNo'].count().reset_index()"
   ]
  },
  {
   "cell_type": "code",
   "execution_count": 294,
   "id": "a89d822c",
   "metadata": {},
   "outputs": [
    {
     "data": {
      "text/plain": [
       "<AxesSubplot:xlabel='yearMonth', ylabel='complexNo'>"
      ]
     },
     "execution_count": 294,
     "metadata": {},
     "output_type": "execute_result"
    },
    {
     "data": {
      "image/png": "[encoded data removed]",
      "text/plain": [
       "<Figure size 864x360 with 1 Axes>"
      ]
     },
     "metadata": {
      "needs_background": "light"
     },
     "output_type": "display_data"
    },
    {
     "data": {
      "image/png": "[encoded data removed]",
      "text/plain": [
       "<Figure size 864x360 with 1 Axes>"
      ]
     },
     "metadata": {
      "needs_background": "light"
     },
     "output_type": "display_data"
    }
   ],
   "source": [
    "plt.figure(figsize = (12, 5))\n",
    "sns.lineplot(df_viz_sigungu['yearMonth'], df_viz_sigungu['complexNo'])\n",
    "plt.figure(figsize = (12, 5))\n",
    "sns.lineplot(df_viz_bdong['yearMonth'], df_viz_bdong['complexNo'])"
   ]
  },
  {
   "cell_type": "markdown",
   "id": "034e27b8",
   "metadata": {},
   "source": [
    "# 면적 구간별 거래량"
   ]
  },
  {
   "cell_type": "code",
   "execution_count": 295,
   "id": "8fd95943",
   "metadata": {},
   "outputs": [
    {
     "data": {
      "text/html": [
       "<div>\n",
       "<style scoped>\n",
       "    .dataframe tbody tr th:only-of-type {\n",
       "        vertical-align: middle;\n",
       "    }\n",
       "\n",
       "    .dataframe tbody tr th {\n",
       "        vertical-align: top;\n",
       "    }\n",
       "\n",
       "    .dataframe thead th {\n",
       "        text-align: right;\n",
       "    }\n",
       "</style>\n",
       "<table border=\"1\" class=\"dataframe\">\n",
       "  <thead>\n",
       "    <tr style=\"text-align: right;\">\n",
       "      <th></th>\n",
       "      <th>areaSixGroupNo</th>\n",
       "      <th>complexNo</th>\n",
       "    </tr>\n",
       "  </thead>\n",
       "  <tbody>\n",
       "    <tr>\n",
       "      <th>0</th>\n",
       "      <td>A3</td>\n",
       "      <td>2352</td>\n",
       "    </tr>\n",
       "    <tr>\n",
       "      <th>1</th>\n",
       "      <td>A2</td>\n",
       "      <td>1835</td>\n",
       "    </tr>\n",
       "    <tr>\n",
       "      <th>2</th>\n",
       "      <td>A1</td>\n",
       "      <td>985</td>\n",
       "    </tr>\n",
       "    <tr>\n",
       "      <th>3</th>\n",
       "      <td>A4</td>\n",
       "      <td>465</td>\n",
       "    </tr>\n",
       "    <tr>\n",
       "      <th>4</th>\n",
       "      <td>A0</td>\n",
       "      <td>415</td>\n",
       "    </tr>\n",
       "    <tr>\n",
       "      <th>5</th>\n",
       "      <td>A5</td>\n",
       "      <td>374</td>\n",
       "    </tr>\n",
       "  </tbody>\n",
       "</table>\n",
       "</div>"
      ],
      "text/plain": [
       "  areaSixGroupNo  complexNo\n",
       "0             A3       2352\n",
       "1             A2       1835\n",
       "2             A1        985\n",
       "3             A4        465\n",
       "4             A0        415\n",
       "5             A5        374"
      ]
     },
     "execution_count": 295,
     "metadata": {},
     "output_type": "execute_result"
    }
   ],
   "source": [
    "# 시군구\n",
    "df_sigungu_trading[df_sigungu_trading['isReal']==True].groupby('areaSixGroupNo').count().reset_index().sort_values(by = 'complexNo', ascending = False).reset_index(drop =True)[['areaSixGroupNo','complexNo']]"
   ]
  },
  {
   "cell_type": "code",
   "execution_count": 296,
   "id": "45da1809",
   "metadata": {},
   "outputs": [
    {
     "data": {
      "text/html": [
       "<div>\n",
       "<style scoped>\n",
       "    .dataframe tbody tr th:only-of-type {\n",
       "        vertical-align: middle;\n",
       "    }\n",
       "\n",
       "    .dataframe tbody tr th {\n",
       "        vertical-align: top;\n",
       "    }\n",
       "\n",
       "    .dataframe thead th {\n",
       "        text-align: right;\n",
       "    }\n",
       "</style>\n",
       "<table border=\"1\" class=\"dataframe\">\n",
       "  <thead>\n",
       "    <tr style=\"text-align: right;\">\n",
       "      <th></th>\n",
       "      <th>areaSixGroupNo</th>\n",
       "      <th>complexNo</th>\n",
       "    </tr>\n",
       "  </thead>\n",
       "  <tbody>\n",
       "    <tr>\n",
       "      <th>0</th>\n",
       "      <td>A3</td>\n",
       "      <td>332</td>\n",
       "    </tr>\n",
       "    <tr>\n",
       "      <th>1</th>\n",
       "      <td>A2</td>\n",
       "      <td>176</td>\n",
       "    </tr>\n",
       "    <tr>\n",
       "      <th>2</th>\n",
       "      <td>A4</td>\n",
       "      <td>75</td>\n",
       "    </tr>\n",
       "  </tbody>\n",
       "</table>\n",
       "</div>"
      ],
      "text/plain": [
       "  areaSixGroupNo  complexNo\n",
       "0             A3        332\n",
       "1             A2        176\n",
       "2             A4         75"
      ]
     },
     "execution_count": 296,
     "metadata": {},
     "output_type": "execute_result"
    }
   ],
   "source": [
    "# 법정동\n",
    "df_bdong_trading[df_bdong_trading['isReal']==True].groupby('areaSixGroupNo').count().reset_index().sort_values(by = 'complexNo',ascending = False).reset_index(drop =True)[['areaSixGroupNo','complexNo']]"
   ]
  },
  {
   "cell_type": "markdown",
   "id": "978f2f1e",
   "metadata": {},
   "source": [
    "# 신,구축,일반 단지당 거래량"
   ]
  },
  {
   "cell_type": "markdown",
   "id": "f0911a60",
   "metadata": {},
   "source": [
    "- 갯수당 거래량??? 신축의 갯수가 시군구 혹은 법정동이 다르기때문에 ->갯수당이 아닌 세대당 거래량  = 회전율"
   ]
  },
  {
   "cell_type": "code",
   "execution_count": 297,
   "id": "e2407090",
   "metadata": {},
   "outputs": [],
   "source": [
    "df_status2 = pd.DataFrame(df_bdong_trading[df_trading['isReal']==True].groupby('status')['complexNo'].count()).reset_index().T"
   ]
  },
  {
   "cell_type": "code",
   "execution_count": 298,
   "id": "2b7e87b8",
   "metadata": {},
   "outputs": [],
   "source": [
    "df_status2.columns = df_status2.iloc[0].values\n",
    "df_status2 = df_status2.drop(index = 'status')"
   ]
  },
  {
   "cell_type": "code",
   "execution_count": 299,
   "id": "8f56c22d",
   "metadata": {},
   "outputs": [
    {
     "data": {
      "text/html": [
       "<div>\n",
       "<style scoped>\n",
       "    .dataframe tbody tr th:only-of-type {\n",
       "        vertical-align: middle;\n",
       "    }\n",
       "\n",
       "    .dataframe tbody tr th {\n",
       "        vertical-align: top;\n",
       "    }\n",
       "\n",
       "    .dataframe thead th {\n",
       "        text-align: right;\n",
       "    }\n",
       "</style>\n",
       "<table border=\"1\" class=\"dataframe\">\n",
       "  <thead>\n",
       "    <tr style=\"text-align: right;\">\n",
       "      <th></th>\n",
       "      <th>new</th>\n",
       "      <th>normal</th>\n",
       "      <th>old</th>\n",
       "    </tr>\n",
       "  </thead>\n",
       "  <tbody>\n",
       "    <tr>\n",
       "      <th>complexNo</th>\n",
       "      <td>7.0</td>\n",
       "      <td>29.529412</td>\n",
       "      <td>24.333333</td>\n",
       "    </tr>\n",
       "  </tbody>\n",
       "</table>\n",
       "</div>"
      ],
      "text/plain": [
       "           new     normal        old\n",
       "complexNo  7.0  29.529412  24.333333"
      ]
     },
     "execution_count": 299,
     "metadata": {},
     "output_type": "execute_result"
    }
   ],
   "source": [
    "df_result = df_status2/df_status\n",
    "df_result"
   ]
  },
  {
   "cell_type": "markdown",
   "id": "b7a5256f",
   "metadata": {},
   "source": [
    "# 대장단지"
   ]
  },
  {
   "cell_type": "markdown",
   "id": "0b1d3f24",
   "metadata": {},
   "source": [
    "- 신,구축,일반 평단가 평균"
   ]
  },
  {
   "cell_type": "code",
   "execution_count": 300,
   "id": "513f6c08",
   "metadata": {},
   "outputs": [
    {
     "data": {
      "text/html": [
       "<div>\n",
       "<style scoped>\n",
       "    .dataframe tbody tr th:only-of-type {\n",
       "        vertical-align: middle;\n",
       "    }\n",
       "\n",
       "    .dataframe tbody tr th {\n",
       "        vertical-align: top;\n",
       "    }\n",
       "\n",
       "    .dataframe thead th {\n",
       "        text-align: right;\n",
       "    }\n",
       "</style>\n",
       "<table border=\"1\" class=\"dataframe\">\n",
       "  <thead>\n",
       "    <tr style=\"text-align: right;\">\n",
       "      <th></th>\n",
       "      <th>status</th>\n",
       "      <th>averagePyeong</th>\n",
       "    </tr>\n",
       "  </thead>\n",
       "  <tbody>\n",
       "    <tr>\n",
       "      <th>0</th>\n",
       "      <td>new</td>\n",
       "      <td>2.869118e+07</td>\n",
       "    </tr>\n",
       "    <tr>\n",
       "      <th>1</th>\n",
       "      <td>normal</td>\n",
       "      <td>3.145861e+07</td>\n",
       "    </tr>\n",
       "    <tr>\n",
       "      <th>2</th>\n",
       "      <td>old</td>\n",
       "      <td>2.442559e+07</td>\n",
       "    </tr>\n",
       "  </tbody>\n",
       "</table>\n",
       "</div>"
      ],
      "text/plain": [
       "   status  averagePyeong\n",
       "0     new   2.869118e+07\n",
       "1  normal   3.145861e+07\n",
       "2     old   2.442559e+07"
      ]
     },
     "execution_count": 300,
     "metadata": {},
     "output_type": "execute_result"
    }
   ],
   "source": [
    "df_bdong_trading[df_bdong_trading['yearMonth']=='2023-03-01'].groupby('status')['averagePyeong'].mean().reset_index()"
   ]
  },
  {
   "cell_type": "markdown",
   "id": "141f25f4",
   "metadata": {},
   "source": [
    "- 현재 예측가격 기준 ToP5단지"
   ]
  },
  {
   "cell_type": "code",
   "execution_count": 303,
   "id": "8e7f9b1f",
   "metadata": {},
   "outputs": [
    {
     "data": {
      "text/html": [
       "<div>\n",
       "<style scoped>\n",
       "    .dataframe tbody tr th:only-of-type {\n",
       "        vertical-align: middle;\n",
       "    }\n",
       "\n",
       "    .dataframe tbody tr th {\n",
       "        vertical-align: top;\n",
       "    }\n",
       "\n",
       "    .dataframe thead th {\n",
       "        text-align: right;\n",
       "    }\n",
       "</style>\n",
       "<table border=\"1\" class=\"dataframe\">\n",
       "  <thead>\n",
       "    <tr style=\"text-align: right;\">\n",
       "      <th></th>\n",
       "      <th>complexNo</th>\n",
       "      <th>complexName</th>\n",
       "      <th>areaSixGroupNo</th>\n",
       "      <th>totalHouseholdCount</th>\n",
       "      <th>yearMonth</th>\n",
       "      <th>isReal</th>\n",
       "      <th>predict</th>\n",
       "      <th>averagePyeong</th>\n",
       "      <th>useApproveYear</th>\n",
       "      <th>status</th>\n",
       "    </tr>\n",
       "  </thead>\n",
       "  <tbody>\n",
       "    <tr>\n",
       "      <th>0</th>\n",
       "      <td>107505</td>\n",
       "      <td>마곡엠밸리15단지</td>\n",
       "      <td>A2</td>\n",
       "      <td>1171</td>\n",
       "      <td>2023-03-01</td>\n",
       "      <td>False</td>\n",
       "      <td>True</td>\n",
       "      <td>4.322872e+07</td>\n",
       "      <td>2014</td>\n",
       "      <td>normal</td>\n",
       "    </tr>\n",
       "    <tr>\n",
       "      <th>1</th>\n",
       "      <td>107505</td>\n",
       "      <td>마곡엠밸리15단지</td>\n",
       "      <td>A3</td>\n",
       "      <td>1171</td>\n",
       "      <td>2023-03-01</td>\n",
       "      <td>False</td>\n",
       "      <td>True</td>\n",
       "      <td>3.787001e+07</td>\n",
       "      <td>2014</td>\n",
       "      <td>normal</td>\n",
       "    </tr>\n",
       "    <tr>\n",
       "      <th>2</th>\n",
       "      <td>107477</td>\n",
       "      <td>마곡엠밸리7단지</td>\n",
       "      <td>A3</td>\n",
       "      <td>1004</td>\n",
       "      <td>2023-03-01</td>\n",
       "      <td>False</td>\n",
       "      <td>True</td>\n",
       "      <td>3.740091e+07</td>\n",
       "      <td>2014</td>\n",
       "      <td>normal</td>\n",
       "    </tr>\n",
       "    <tr>\n",
       "      <th>3</th>\n",
       "      <td>108359</td>\n",
       "      <td>마곡힐스테이트</td>\n",
       "      <td>A2</td>\n",
       "      <td>603</td>\n",
       "      <td>2023-03-01</td>\n",
       "      <td>False</td>\n",
       "      <td>True</td>\n",
       "      <td>3.725693e+07</td>\n",
       "      <td>2017</td>\n",
       "      <td>normal</td>\n",
       "    </tr>\n",
       "    <tr>\n",
       "      <th>4</th>\n",
       "      <td>109799</td>\n",
       "      <td>마곡13단지힐스테이트마스터</td>\n",
       "      <td>A2</td>\n",
       "      <td>1194</td>\n",
       "      <td>2023-03-01</td>\n",
       "      <td>False</td>\n",
       "      <td>True</td>\n",
       "      <td>3.716798e+07</td>\n",
       "      <td>2017</td>\n",
       "      <td>normal</td>\n",
       "    </tr>\n",
       "  </tbody>\n",
       "</table>\n",
       "</div>"
      ],
      "text/plain": [
       "  complexNo     complexName areaSixGroupNo  totalHouseholdCount  yearMonth  isReal  predict  \\\n",
       "0    107505       마곡엠밸리15단지             A2                 1171 2023-03-01   False     True   \n",
       "1    107505       마곡엠밸리15단지             A3                 1171 2023-03-01   False     True   \n",
       "2    107477        마곡엠밸리7단지             A3                 1004 2023-03-01   False     True   \n",
       "3    108359         마곡힐스테이트             A2                  603 2023-03-01   False     True   \n",
       "4    109799  마곡13단지힐스테이트마스터             A2                 1194 2023-03-01   False     True   \n",
       "\n",
       "   averagePyeong useApproveYear  status  \n",
       "0   4.322872e+07           2014  normal  \n",
       "1   3.787001e+07           2014  normal  \n",
       "2   3.740091e+07           2014  normal  \n",
       "3   3.725693e+07           2017  normal  \n",
       "4   3.716798e+07           2017  normal  "
      ]
     },
     "execution_count": 303,
     "metadata": {},
     "output_type": "execute_result"
    }
   ],
   "source": [
    "df_bdong_trading[df_bdong_trading['yearMonth']=='2023-03-01'].sort_values(by ='averagePyeong',ascending = False).reset_index(drop = True).iloc[:5]"
   ]
  },
  {
   "cell_type": "code",
   "execution_count": 302,
   "id": "dfcf1b6e",
   "metadata": {
    "scrolled": true
   },
   "outputs": [
    {
     "data": {
      "text/html": [
       "<div>\n",
       "<style scoped>\n",
       "    .dataframe tbody tr th:only-of-type {\n",
       "        vertical-align: middle;\n",
       "    }\n",
       "\n",
       "    .dataframe tbody tr th {\n",
       "        vertical-align: top;\n",
       "    }\n",
       "\n",
       "    .dataframe thead th {\n",
       "        text-align: right;\n",
       "    }\n",
       "</style>\n",
       "<table border=\"1\" class=\"dataframe\">\n",
       "  <thead>\n",
       "    <tr style=\"text-align: right;\">\n",
       "      <th></th>\n",
       "      <th>complexNo</th>\n",
       "      <th>complexName</th>\n",
       "      <th>areaSixGroupNo</th>\n",
       "      <th>totalHouseholdCount</th>\n",
       "      <th>yearMonth</th>\n",
       "      <th>isReal</th>\n",
       "      <th>predict</th>\n",
       "      <th>averagePyeong</th>\n",
       "      <th>useApproveYear</th>\n",
       "      <th>status</th>\n",
       "    </tr>\n",
       "  </thead>\n",
       "  <tbody>\n",
       "    <tr>\n",
       "      <th>0</th>\n",
       "      <td>107505</td>\n",
       "      <td>마곡엠밸리15단지</td>\n",
       "      <td>A2</td>\n",
       "      <td>1171</td>\n",
       "      <td>2023-03-01</td>\n",
       "      <td>False</td>\n",
       "      <td>True</td>\n",
       "      <td>4.322872e+07</td>\n",
       "      <td>2014</td>\n",
       "      <td>normal</td>\n",
       "    </tr>\n",
       "    <tr>\n",
       "      <th>1</th>\n",
       "      <td>107505</td>\n",
       "      <td>마곡엠밸리15단지</td>\n",
       "      <td>A3</td>\n",
       "      <td>1171</td>\n",
       "      <td>2023-03-01</td>\n",
       "      <td>False</td>\n",
       "      <td>True</td>\n",
       "      <td>3.787001e+07</td>\n",
       "      <td>2014</td>\n",
       "      <td>normal</td>\n",
       "    </tr>\n",
       "    <tr>\n",
       "      <th>2</th>\n",
       "      <td>107477</td>\n",
       "      <td>마곡엠밸리7단지</td>\n",
       "      <td>A3</td>\n",
       "      <td>1004</td>\n",
       "      <td>2023-03-01</td>\n",
       "      <td>False</td>\n",
       "      <td>True</td>\n",
       "      <td>3.740091e+07</td>\n",
       "      <td>2014</td>\n",
       "      <td>normal</td>\n",
       "    </tr>\n",
       "    <tr>\n",
       "      <th>3</th>\n",
       "      <td>108359</td>\n",
       "      <td>마곡힐스테이트</td>\n",
       "      <td>A2</td>\n",
       "      <td>603</td>\n",
       "      <td>2023-03-01</td>\n",
       "      <td>False</td>\n",
       "      <td>True</td>\n",
       "      <td>3.725693e+07</td>\n",
       "      <td>2017</td>\n",
       "      <td>normal</td>\n",
       "    </tr>\n",
       "    <tr>\n",
       "      <th>4</th>\n",
       "      <td>109799</td>\n",
       "      <td>마곡13단지힐스테이트마스터</td>\n",
       "      <td>A2</td>\n",
       "      <td>1194</td>\n",
       "      <td>2023-03-01</td>\n",
       "      <td>False</td>\n",
       "      <td>True</td>\n",
       "      <td>3.716798e+07</td>\n",
       "      <td>2017</td>\n",
       "      <td>normal</td>\n",
       "    </tr>\n",
       "  </tbody>\n",
       "</table>\n",
       "</div>"
      ],
      "text/plain": [
       "  complexNo     complexName areaSixGroupNo  totalHouseholdCount  yearMonth  isReal  predict  \\\n",
       "0    107505       마곡엠밸리15단지             A2                 1171 2023-03-01   False     True   \n",
       "1    107505       마곡엠밸리15단지             A3                 1171 2023-03-01   False     True   \n",
       "2    107477        마곡엠밸리7단지             A3                 1004 2023-03-01   False     True   \n",
       "3    108359         마곡힐스테이트             A2                  603 2023-03-01   False     True   \n",
       "4    109799  마곡13단지힐스테이트마스터             A2                 1194 2023-03-01   False     True   \n",
       "\n",
       "   averagePyeong useApproveYear  status  \n",
       "0   4.322872e+07           2014  normal  \n",
       "1   3.787001e+07           2014  normal  \n",
       "2   3.740091e+07           2014  normal  \n",
       "3   3.725693e+07           2017  normal  \n",
       "4   3.716798e+07           2017  normal  "
      ]
     },
     "execution_count": 302,
     "metadata": {},
     "output_type": "execute_result"
    }
   ],
   "source": []
  },
  {
   "cell_type": "code",
   "execution_count": null,
   "id": "fd0fa29e",
   "metadata": {},
   "outputs": [],
   "source": []
  }
 ],
 "metadata": {
  "kernelspec": {
   "display_name": "jupyter",
   "language": "python",
   "name": "jupyter"
  },
  "language_info": {
   "codemirror_mode": {
    "name": "ipython",
    "version": 3
   },
   "file_extension": ".py",
   "mimetype": "text/x-python",
   "name": "python",
   "nbconvert_exporter": "python",
   "pygments_lexer": "ipython3",
   "version": "3.10.4"
  },
  "toc": {
   "base_numbering": 1,
   "nav_menu": {},
   "number_sections": true,
   "sideBar": true,
   "skip_h1_title": false,
   "title_cell": "Table of Contents",
   "title_sidebar": "Contents",
   "toc_cell": false,
   "toc_position": {},
   "toc_section_display": true,
   "toc_window_display": false
  }
 },
 "nbformat": 4,
 "nbformat_minor": 5
}
