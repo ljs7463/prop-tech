{
 "cells": [
  {
   "cell_type": "code",
   "execution_count": 1,
   "id": "f536a586",
   "metadata": {},
   "outputs": [],
   "source": [
    "# 경로설정\n",
    "import sys\n",
    "path = \"C:\\github/aide-analysis/\"\n",
    "sys.path.append(path)\n",
    "\n",
    "import os\n",
    "import sys\n",
    "from pathlib import Path\n",
    "sys.path.append(str(Path(os.getcwd())))\n",
    "# 한글폰트\n",
    "import os\n",
    "import matplotlib.pyplot as plt\n",
    "if os.name =='posix':\n",
    "    plt.rc('font',family = 'ApplGothic')\n",
    "else:\n",
    "    plt.rc('font',family = 'Malgun Gothic')\n",
    "    \n",
    "# 경고출력문 제거\n",
    "import warnings\n",
    "warnings.filterwarnings(\"ignore\")\n",
    "\n",
    "# 모듈 import\n",
    "import pandas as pd\n",
    "import src\n",
    "from src.openapi import KakaoLocalAPI as kakao\n",
    "from openpyxl import load_workbook\n",
    "from src.utils import insert_dataframe_to_excel_sheet\n",
    "from src.sql import DatabaseHandler\n",
    "from src.temp import *\n",
    "from datetime import datetime\n",
    "import datetime\n",
    "from dateutil.relativedelta import relativedelta\n",
    "from src.bigquery import BigqueryHandler\n",
    "import seaborn as sns\n",
    "import numpy as np\n",
    "import statistics\n",
    "from tqdm import tqdm\n",
    "import config\n",
    "from core.config import Config\n",
    "import json\n",
    "from datetime import datetime\n",
    "import geopandas as gpd\n",
    "from tqdm import tqdm\n",
    "import folium\n",
    "from src.bigquery import bigquery_client, bigquery\n",
    "import geopandas as gpd\n",
    "from shapely import wkt\n",
    "from openpyxl import load_workbook\n",
    "from src.utils import insert_dataframe_to_excel_sheet\n",
    "from openpyxl.utils.dataframe import dataframe_to_rows\n",
    "from difflib import SequenceMatcher\n",
    "import openpyxl\n",
    "import math\n",
    "config = Config()\n",
    "BH = BigqueryHandler()\n",
    "\n",
    "\n",
    "# DataFrame 디스플레이 설정\n",
    "pd.set_option('display.max_columns', 250)\n",
    "pd.set_option('display.max_rows', 250)\n",
    "pd.set_option('display.width', 100)"
   ]
  },
  {
   "cell_type": "markdown",
   "id": "924f991e",
   "metadata": {},
   "source": [
    "#### 필요한 정보\n",
    "\n",
    "- 시군구\n",
    "- 단지명\n",
    "- 사용승인일 \n",
    "- 총세대수\n",
    "- 전용면적\n",
    "- 공급면적\n",
    "- 매매가격\n",
    "- 전세가격\n",
    "- 월세가격 \n",
    "- 전세가율"
   ]
  },
  {
   "cell_type": "markdown",
   "id": "56fa2b1d",
   "metadata": {},
   "source": [
    "#### 기획\n",
    "- 오피스텔명과 면적을 입력받고 그중 가장 세대수가 많은 면적들끼리 가격비교를 하는데, 이때 필요한정보들을 비교해주는 방식"
   ]
  },
  {
   "cell_type": "code",
   "execution_count": null,
   "id": "cdce9e35",
   "metadata": {},
   "outputs": [],
   "source": [
    "sql = f\"\"\"\n",
    "SELECT danji.complexNo, \n",
    "       danji.complexName, \n",
    "       danji.sigunguName, \n",
    "       danji.bdongName,\n",
    "       danji.totalHouseholdCount,\n",
    "       danji.useApproveYear,\n",
    "       danji.HeatMethodTypeName\n",
    "FROM `aidepartern.aide.complex_danji_information` AS danji\n",
    "WHERE realEstateTypeCode = 'OPST' and sidoCode = '11' OR sigunguCode IN ('41131','41133')\n",
    "\"\"\""
   ]
  }
 ],
 "metadata": {
  "kernelspec": {
   "display_name": "jupyter",
   "language": "python",
   "name": "jupyter"
  },
  "language_info": {
   "codemirror_mode": {
    "name": "ipython",
    "version": 3
   },
   "file_extension": ".py",
   "mimetype": "text/x-python",
   "name": "python",
   "nbconvert_exporter": "python",
   "pygments_lexer": "ipython3",
   "version": "3.10.4"
  },
  "toc": {
   "base_numbering": 1,
   "nav_menu": {},
   "number_sections": true,
   "sideBar": true,
   "skip_h1_title": false,
   "title_cell": "Table of Contents",
   "title_sidebar": "Contents",
   "toc_cell": false,
   "toc_position": {},
   "toc_section_display": true,
   "toc_window_display": false
  }
 },
 "nbformat": 4,
 "nbformat_minor": 5
}
