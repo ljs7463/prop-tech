{
 "cells": [
  {
   "cell_type": "markdown",
   "id": "1f52b613",
   "metadata": {},
   "source": [
    "# 분석목적"
   ]
  },
  {
   "cell_type": "markdown",
   "id": "5bc366af",
   "metadata": {},
   "source": [
    "2022년을 맞이하여 미국의 인플레이션으로 인한 긴축정책, 연준의 금리 인상으로 인해 전국의 서울과 수도권을 비롯한 많은 지역의 집값이 하락하는 가운데, 경기도 이천시의 집값 상승이 2달정도 이어지고 있다는 기사가 나오고 있다. 실제현황을 데이터로 확인해 보고 요인을 분석해 보자"
   ]
  },
  {
   "cell_type": "code",
   "execution_count": null,
   "id": "a87db071",
   "metadata": {},
   "outputs": [],
   "source": []
  }
 ],
 "metadata": {
  "kernelspec": {
   "display_name": "aide",
   "language": "python",
   "name": "aide"
  },
  "language_info": {
   "codemirror_mode": {
    "name": "ipython",
    "version": 3
   },
   "file_extension": ".py",
   "mimetype": "text/x-python",
   "name": "python",
   "nbconvert_exporter": "python",
   "pygments_lexer": "ipython3",
   "version": "3.8.13"
  },
  "toc": {
   "base_numbering": 1,
   "nav_menu": {},
   "number_sections": true,
   "sideBar": true,
   "skip_h1_title": false,
   "title_cell": "Table of Contents",
   "title_sidebar": "Contents",
   "toc_cell": false,
   "toc_position": {},
   "toc_section_display": true,
   "toc_window_display": true
  }
 },
 "nbformat": 4,
 "nbformat_minor": 5
}
