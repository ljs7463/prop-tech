{
 "cells": [
  {
   "cell_type": "code",
   "execution_count": 9,
   "id": "bfaa537d",
   "metadata": {},
   "outputs": [],
   "source": [
    "import pandas as pd\n",
    "import json\n",
    "import requests\n",
    "import sys\n",
    "import folium\n",
    "path = \"/Users/jeongseok/Documents/GitHub/prop-tech\"\n",
    "sys.path.append(path)"
   ]
  },
  {
   "cell_type": "code",
   "execution_count": 10,
   "id": "dc8c90c5",
   "metadata": {},
   "outputs": [],
   "source": [
    "from src.openapi import *"
   ]
  },
  {
   "cell_type": "code",
   "execution_count": null,
   "id": "61558f5c",
   "metadata": {},
   "outputs": [],
   "source": []
  }
 ],
 "metadata": {
  "kernelspec": {
   "display_name": "Python 3 (ipykernel)",
   "language": "python",
   "name": "python3"
  },
  "language_info": {
   "codemirror_mode": {
    "name": "ipython",
    "version": 3
   },
   "file_extension": ".py",
   "mimetype": "text/x-python",
   "name": "python",
   "nbconvert_exporter": "python",
   "pygments_lexer": "ipython3",
   "version": "3.8.2"
  }
 },
 "nbformat": 4,
 "nbformat_minor": 5
}
