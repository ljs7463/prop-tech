{
 "cells": [
  {
   "cell_type": "code",
   "execution_count": 1,
   "id": "79be9d4d",
   "metadata": {},
   "outputs": [],
   "source": [
    "import json"
   ]
  },
  {
   "cell_type": "markdown",
   "id": "ce3be59b",
   "metadata": {},
   "source": [
    "### loads()함수 : JSON문자열을 Python 객체로 변환"
   ]
  },
  {
   "cell_type": "code",
   "execution_count": 4,
   "id": "8c5942ec",
   "metadata": {},
   "outputs": [],
   "source": [
    "json_string =  '''{\n",
    "    \"id\": 1,\n",
    "    \"username\": \"Bret\",\n",
    "    \"email\": \"Sincere@april.biz\",\n",
    "    \"address\": {\n",
    "        \"street\": \"Kulas Light\",\n",
    "        \"suite\": \"Apt. 556\",\n",
    "        \"city\": \"Gwenborough\",\n",
    "        \"zipcode\": \"92998-3874\"\n",
    "    },\n",
    "    \"admin\": false,\n",
    "    \"hobbies\": null\n",
    "}'''"
   ]
  },
  {
   "cell_type": "code",
   "execution_count": 6,
   "id": "992dba0f",
   "metadata": {},
   "outputs": [
    {
     "data": {
      "text/plain": [
       "'{\\n    \"id\": 1,\\n    \"username\": \"Bret\",\\n    \"email\": \"Sincere@april.biz\",\\n    \"address\": {\\n        \"street\": \"Kulas Light\",\\n        \"suite\": \"Apt. 556\",\\n        \"city\": \"Gwenborough\",\\n        \"zipcode\": \"92998-3874\"\\n    },\\n    \"admin\": false,\\n    \"hobbies\": null\\n}'"
      ]
     },
     "execution_count": 6,
     "metadata": {},
     "output_type": "execute_result"
    }
   ],
   "source": [
    "json_string"
   ]
  },
  {
   "cell_type": "code",
   "execution_count": 5,
   "id": "82bf2805",
   "metadata": {},
   "outputs": [
    {
     "data": {
      "text/plain": [
       "{'id': 1,\n",
       " 'username': 'Bret',\n",
       " 'email': 'Sincere@april.biz',\n",
       " 'address': {'street': 'Kulas Light',\n",
       "  'suite': 'Apt. 556',\n",
       "  'city': 'Gwenborough',\n",
       "  'zipcode': '92998-3874'},\n",
       " 'admin': False,\n",
       " 'hobbies': None}"
      ]
     },
     "execution_count": 5,
     "metadata": {},
     "output_type": "execute_result"
    }
   ],
   "source": [
    "json.loads(json_string)"
   ]
  },
  {
   "cell_type": "code",
   "execution_count": 17,
   "id": "16bc3f69",
   "metadata": {},
   "outputs": [
    {
     "data": {
      "text/plain": [
       "{'id': 1,\n",
       " 'username': 'Bret',\n",
       " 'email': 'Sincere@april.biz',\n",
       " 'address': {'street': 'Kulas Light',\n",
       "  'suite': 'Apt. 556',\n",
       "  'city': 'Gwenborough',\n",
       "  'zipcode': '92998-3874'},\n",
       " 'admin': False,\n",
       " 'hobbies': None}"
      ]
     },
     "execution_count": 17,
     "metadata": {},
     "output_type": "execute_result"
    }
   ],
   "source": [
    "obj = json.loads(json_string)\n",
    "assert obj['id'] ==1 # assert + 만족해야할 조건\n",
    "assert obj['email'] == 'Sincere@april.biz'\n",
    "obj"
   ]
  },
  {
   "cell_type": "markdown",
   "id": "de5dc43c",
   "metadata": {},
   "source": [
    "### dumps()함수 : Python 객체를 JSON문자열로 반환"
   ]
  },
  {
   "cell_type": "code",
   "execution_count": 23,
   "id": "5afd1462",
   "metadata": {},
   "outputs": [
    {
     "data": {
      "text/plain": [
       "'{\"id\": 1, \"username\": \"Bret\", \"email\": \"Sincere@april.biz\", \"address\": {\"street\": \"Kulas Light\", \"suite\": \"Apt. 556\", \"city\": \"Gwenborough\", \"zipcode\": \"92998-3874\"}, \"admin\": false, \"hobbies\": null}'"
      ]
     },
     "execution_count": 23,
     "metadata": {},
     "output_type": "execute_result"
    }
   ],
   "source": [
    "json_object = {\n",
    "    \"id\": 1,\n",
    "    \"username\": \"Bret\",\n",
    "    \"email\": \"Sincere@april.biz\",\n",
    "    \"address\": {\n",
    "        \"street\": \"Kulas Light\",\n",
    "        \"suite\": \"Apt. 556\",\n",
    "        \"city\": \"Gwenborough\",\n",
    "        \"zipcode\": \"92998-3874\"\n",
    "    },\n",
    "    \"admin\": False,\n",
    "    \"hobbies\": None\n",
    "}\n",
    "\n",
    "json.dumps(json_object)"
   ]
  },
  {
   "cell_type": "markdown",
   "id": "2c191bfc",
   "metadata": {},
   "source": [
    "### load()함수 : JSON**파일**을 Python 객체로 불러오기"
   ]
  },
  {
   "cell_type": "code",
   "execution_count": 25,
   "id": "6d679424",
   "metadata": {},
   "outputs": [],
   "source": [
    "# # 아래의 내용이 .json 파일로 저장되었다고 가정\n",
    "{\n",
    "  \"id\": 1,\n",
    "  \"username\": \"Bret\",\n",
    "  \"email\": \"Sincere@april.biz\",\n",
    "  \"address\": {\n",
    "    \"street\": \"Kulas Light\",\n",
    "    \"suite\": \"Apt. 556\",\n",
    "    \"city\": \"Gwenborough\",\n",
    "    \"zipcode\": \"92998-3874\"\n",
    "  },\n",
    "  \"admin\": false,\n",
    "  \"hobbies\": null\n",
    "}"
   ]
  },
  {
   "cell_type": "code",
   "execution_count": null,
   "id": "260809e6",
   "metadata": {},
   "outputs": [],
   "source": [
    "with open('data.json') as f:\n",
    "    json_object = json.load(f)"
   ]
  },
  {
   "cell_type": "markdown",
   "id": "8921ffbe",
   "metadata": {},
   "source": [
    "### dump() 함수: Python 객체를 JSON 파일에 저장하기"
   ]
  },
  {
   "cell_type": "code",
   "execution_count": null,
   "id": "d93f8fc9",
   "metadata": {},
   "outputs": [],
   "source": [
    "json_object = {\n",
    "    \"id\": 1,\n",
    "    \"username\": \"Bret\",\n",
    "    \"email\": \"Sincere@april.biz\",\n",
    "    \"address\": {\n",
    "        \"street\": \"Kulas Light\",\n",
    "        \"suite\": \"Apt. 556\",\n",
    "        \"city\": \"Gwenborough\",\n",
    "        \"zipcode\": \"92998-3874\"\n",
    "    },\n",
    "    \"admin\": False,\n",
    "    \"hobbies\": None\n",
    "}\n",
    "\n",
    "with open('data.json', 'w') as f:\n",
    "    json_string = json.dump(json_object, f, indent=2)"
   ]
  },
  {
   "cell_type": "code",
   "execution_count": null,
   "id": "81ccaa0a",
   "metadata": {},
   "outputs": [],
   "source": []
  }
 ],
 "metadata": {
  "kernelspec": {
   "display_name": "aide",
   "language": "python",
   "name": "aide"
  },
  "language_info": {
   "codemirror_mode": {
    "name": "ipython",
    "version": 3
   },
   "file_extension": ".py",
   "mimetype": "text/x-python",
   "name": "python",
   "nbconvert_exporter": "python",
   "pygments_lexer": "ipython3",
   "version": "3.8.12"
  }
 },
 "nbformat": 4,
 "nbformat_minor": 5
}
