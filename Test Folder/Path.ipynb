{
 "cells": [
  {
   "cell_type": "code",
   "execution_count": 2,
   "id": "b9a7fd4f",
   "metadata": {},
   "outputs": [
    {
     "data": {
      "text/plain": [
       "'C:\\\\github\\\\prop-tech\\\\Test Folder'"
      ]
     },
     "execution_count": 2,
     "metadata": {},
     "output_type": "execute_result"
    }
   ],
   "source": [
    "import os\n",
    "\n",
    "# 현재 경로 확인\n",
    "path = os.getcwd()\n",
    "path"
   ]
  },
  {
   "cell_type": "code",
   "execution_count": 5,
   "id": "daa9e812",
   "metadata": {},
   "outputs": [
    {
     "data": {
      "text/plain": [
       "'C:\\\\github\\\\prop-tech'"
      ]
     },
     "execution_count": 5,
     "metadata": {},
     "output_type": "execute_result"
    }
   ],
   "source": [
    "# 파일을 제외한 경로 확인\n",
    "os.path.dirname(path)"
   ]
  },
  {
   "cell_type": "code",
   "execution_count": 8,
   "id": "ef11b3e3",
   "metadata": {},
   "outputs": [
    {
     "data": {
      "text/plain": [
       "'Test Folder'"
      ]
     },
     "execution_count": 8,
     "metadata": {},
     "output_type": "execute_result"
    }
   ],
   "source": [
    "# 경로제외하고 파일명 확인\n",
    "os.path.basename(path)"
   ]
  },
  {
   "cell_type": "code",
   "execution_count": 16,
   "id": "d4197a65",
   "metadata": {},
   "outputs": [
    {
     "name": "stdout",
     "output_type": "stream",
     "text": [
      "경로 : C:\\github\\prop-tech\n",
      "파일명 : Test Folder\n"
     ]
    }
   ],
   "source": [
    "# 경로에서 폴더와 파일 분리\n",
    "dir, file = os.path.split(path)\n",
    "print(f'경로 : {dir}\\n파일명 : {file}')"
   ]
  },
  {
   "cell_type": "code",
   "execution_count": 18,
   "id": "8a9d6020",
   "metadata": {},
   "outputs": [],
   "source": [
    "# 다른경로의 파일을 불러오기 위해 경로를 저장하는 방법\n",
    "import sys\n",
    "sys.path.append(path)"
   ]
  }
 ],
 "metadata": {
  "kernelspec": {
   "display_name": "aide",
   "language": "python",
   "name": "aide"
  },
  "language_info": {
   "codemirror_mode": {
    "name": "ipython",
    "version": 3
   },
   "file_extension": ".py",
   "mimetype": "text/x-python",
   "name": "python",
   "nbconvert_exporter": "python",
   "pygments_lexer": "ipython3",
   "version": "3.8.12"
  }
 },
 "nbformat": 4,
 "nbformat_minor": 5
}
